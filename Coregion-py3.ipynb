{
 "cells": [
  {
   "cell_type": "code",
   "execution_count": 1,
   "metadata": {
    "collapsed": true
   },
   "outputs": [],
   "source": [
    "import numpy as np\n",
    "import matplotlib.pyplot as plt\n",
    "import gpflow\n",
    "%matplotlib inline\n",
    "\n",
    "from modeling import Model"
   ]
  },
  {
   "cell_type": "markdown",
   "metadata": {},
   "source": [
    "### Part 2 - Generate and recover a coregionalized kernel with corresponding outputs\n",
    "-Could be useful: https://github.com/vlad17/runlmc\n",
    "\n",
    "Links:\n",
    "- https://github.com/GPflow/GPflow/pull/138 - coregion kernel\n",
    "- https://github.com/GPflow/GPflow/pull/139 - coregion kernel\n",
    "- https://en.wikipedia.org/wiki/Kernel_methods_for_vector_output#Linear_model_of_coregionalization_.28LMC.29  \n",
    "- http://gpflow.readthedocs.io/en/latest/notebooks/coreg_demo.html?highlight=coregion  \n",
    "- https://bigaidream.gitbooks.io/subsets_ml_cookbook/content/bayes/gp/coregionalized_regression_gpy.html - Gpy might be useful\n",
    "\n",
    "- https://github.com/GPflow/GPflow/tree/master/doc/source/notebooks - GPflow notebooks from the source"
   ]
  },
  {
   "cell_type": "markdown",
   "metadata": {},
   "source": [
    "### Sample Rajpaul code (implemented by DFM)"
   ]
  },
  {
   "cell_type": "code",
   "execution_count": 153,
   "metadata": {
    "collapsed": true
   },
   "outputs": [],
   "source": [
    "#Code from https://github.com/dfm/gprv/blob/master/demo.ipynb\n",
    "#which in turn was inspired from Rajpaul et al. (2015)\n",
    "class SimpleKernel(Model):\n",
    "    parameter_names = (\"log_b\", )\n",
    "    \n",
    "    def get_value(self, tau):\n",
    "        a = 1.0\n",
    "        b = np.exp(self.log_b)\n",
    "        return a * np.exp(-b * tau**2)\n",
    "    \n",
    "    def get_grad_1_value(self, tau):\n",
    "        a = 1.0\n",
    "        b = np.exp(self.log_b)\n",
    "        return 2 * a * b * tau * np.exp(-b * tau**2)\n",
    "    \n",
    "    def get_grad_2_value(self, tau):\n",
    "        a = 1.0\n",
    "        b = np.exp(self.log_b)\n",
    "        return 2 * a * b * np.exp(-b * tau**2) * (1.0 - 2 * b * tau**2)\n",
    "\n",
    "class RVKernel(Model):\n",
    "    parameter_names = (\"vc\", \"vr\", \"lc\", \"bc\", \"br\")\n",
    "    \n",
    "    def __init__(self, G, *args, **kwargs):\n",
    "        self.G = G\n",
    "        super(RVKernel, self).__init__(*args, **kwargs)\n",
    "    \n",
    "    def get_value(self, tau, l1, l2):\n",
    "#         vc = np.exp(self.log_vc)\n",
    "#         vr = np.exp(self.log_vr)\n",
    "#         lc = np.exp(self.log_lc)\n",
    "#         bc = np.exp(self.log_bc)\n",
    "#         br = np.exp(self.log_br)\n",
    "        vc = self.vc\n",
    "        vr = self.vr\n",
    "        lc = self.lc\n",
    "        bc = self.bc\n",
    "        br = self.br\n",
    "        \n",
    "        # Compute the value of gamma and its derivatives\n",
    "        g = self.G.get_value(tau)\n",
    "        gp1 = self.G.get_grad_1_value(tau)\n",
    "        gp2 = self.G.get_grad_1_value(-tau)\n",
    "        gpp = self.G.get_grad_2_value(tau)\n",
    "        \n",
    "        # We'll use these masks to build the blocked kernel matrix\n",
    "        m11 = l1 == 1\n",
    "        m12 = l1 == 2\n",
    "        m13 = l1 == 3\n",
    "        m21 = l2 == 1\n",
    "        m22 = l2 == 2\n",
    "        m23 = l2 == 3\n",
    "        \n",
    "        # Allocate the matrix and loop over blocks\n",
    "        K = np.zeros_like(tau)\n",
    "        zero_tau = np.isclose(tau, 0.0)\n",
    "        \n",
    "        # k11\n",
    "        m = m11 * m21\n",
    "        K[m] = vc**2*g[m] + vr**2*gpp[m] + vr*vc*(gp1 + gp2)[m]\n",
    "        m &= zero_tau\n",
    "\n",
    "        # k22\n",
    "        m = m12 * m22\n",
    "        K[m] = lc**2*g[m]\n",
    "        m &= zero_tau\n",
    "\n",
    "        # k33\n",
    "        m = m13 * m23\n",
    "        K[m] = bc**2*g[m] + br**2*gpp[m] + bc*br*(gp1 + gp2)[m]\n",
    "        m &= zero_tau\n",
    "\n",
    "        # k12\n",
    "        m = m11 * m22\n",
    "        K[m] = vc*lc*g[m] + vr*lc*gp2[m]\n",
    "        m = m12 * m21\n",
    "        K[m] = vc*lc*g[m] + vr*lc*gp1[m]\n",
    "\n",
    "        # k13\n",
    "        m = m11 * m23\n",
    "        K[m] = vc*bc*g[m] + vr*br*gpp[m] + vc*br*gp1[m] + vr*bc*gp2[m]\n",
    "        m = m13 * m21\n",
    "        K[m] = vc*bc*g[m] + vr*br*gpp[m] + vc*br*gp2[m] + vr*bc*gp1[m]\n",
    "\n",
    "        # k23\n",
    "        m = m12 * m23\n",
    "        K[m] = lc*bc*g[m] + lc*br*gp1[m]\n",
    "        m = m13 * m22\n",
    "        K[m] = lc*bc*g[m] + lc*br*gp2[m]\n",
    "\n",
    "        return K"
   ]
  },
  {
   "cell_type": "code",
   "execution_count": 154,
   "metadata": {
    "collapsed": true
   },
   "outputs": [],
   "source": [
    "func = SimpleKernel(0.1)\n",
    "kernel = RVKernel(func, 1.0, 1.0, 0.6, 0.3, 0.5)"
   ]
  },
  {
   "cell_type": "code",
   "execution_count": 155,
   "metadata": {},
   "outputs": [
    {
     "data": {
      "image/png": "[encoded data removed]",
      "text/plain": [
       "<matplotlib.figure.Figure at 0x7f809c533208>"
      ]
     },
     "metadata": {},
     "output_type": "display_data"
    }
   ],
   "source": [
    "#generate some correlated time series according to a kernel K\n",
    "npts = 10\n",
    "output_dim = 3\n",
    "range_ = 10\n",
    "\n",
    "time = np.linspace(0, range_, npts)\n",
    "index = np.zeros(len(time))\n",
    "t, l = np.zeros(0), np.zeros(0)\n",
    "for i in range(output_dim):\n",
    "    t = np.concatenate((t,time))\n",
    "    l = np.concatenate((l,index + i))\n",
    "\n",
    "K = kernel.get_value(t[:, None] - t[None, :], l[:, None], l[None, :])\n",
    "K[np.diag_indices(len(t))] += 0.1\n",
    "y = np.random.multivariate_normal(np.zeros_like(t), K)\n",
    "\n",
    "for i in range(output_dim):\n",
    "    line, = plt.plot(t[l==i], y[l==i])"
   ]
  },
  {
   "cell_type": "markdown",
   "metadata": {},
   "source": [
    "### Generate True Coregional GP timeseries\n",
    "Make a simple coregional matrix of:  \n",
    "$$ f_1 = a_1*X_1(t)  $$\n",
    "$$ f_2 = a_2*X_1(t)  $$\n",
    "$$f_3 = a_3*X_1(t)   $$"
   ]
  },
  {
   "cell_type": "code",
   "execution_count": 2,
   "metadata": {},
   "outputs": [
    {
     "data": {
      "text/plain": [
       "<matplotlib.legend.Legend at 0x7f29e35369b0>"
      ]
     },
     "execution_count": 2,
     "metadata": {},
     "output_type": "execute_result"
    },
    {
     "data": {
      "image/png": "[encoded data removed]",
      "text/plain": [
       "<matplotlib.figure.Figure at 0x7f29e34d0278>"
      ]
     },
     "metadata": {},
     "output_type": "display_data"
    }
   ],
   "source": [
    "#https://stackoverflow.com/questions/16024677/generate-correlated-data-in-python-3-3\n",
    "#http://gpflow.readthedocs.io/en/latest/notebooks/multiclass.html\n",
    "#Generate your own correlated data\n",
    "npts = 100\n",
    "output_dim = 3\n",
    "range_ = 10\n",
    "LS2 = 1   #lengthscale^2\n",
    "V2 = 1      #output variance^2\n",
    "noise = 1e-2 #add noise to obs\n",
    "\n",
    "#uncorrelated data\n",
    "np.random.seed(1)\n",
    "X = np.random.rand(npts,1)*range_\n",
    "\n",
    "#correlated data = uncorrelated data x Cholesky decomposition\n",
    "K = V2*np.exp(-0.5*np.square(X - X.T)/LS2) + np.eye(npts)*noise\n",
    "B = np.array([0.79042061, -1.46037718, -0.32913388])   #coregion matrix \n",
    "f = B*np.dot(np.linalg.cholesky(K), np.random.randn(npts,output_dim))\n",
    "X,f = zip(*sorted(zip(X,f)))\n",
    "X,f = np.asarray(X), np.asarray(f)\n",
    "\n",
    "l,t,y = np.zeros(0), np.zeros(0), np.zeros(0)\n",
    "for i in range(output_dim):\n",
    "    t = np.concatenate((t,X.flatten()))\n",
    "    y = np.concatenate((y,f.T[i]))\n",
    "    l = np.concatenate((l,np.ones(npts)*i))\n",
    "\n",
    "for i in range(output_dim):\n",
    "    line, = plt.plot(t[l==i], y[l==i], label=i);\n",
    "plt.legend()"
   ]
  },
  {
   "cell_type": "markdown",
   "metadata": {},
   "source": [
    "### Multi-latent functions, each with different kernel (works)\n",
    "Note: Implementation of Coregionalized Kernel in GPFlow is:  \n",
    "$ B[i, j] = \\sum_r W[i, r] * W[j, r] + \\delta_{i,j}\\kappa_i$\n",
    "\n",
    "The Alvarez paper does not have those kappa terms. You could always force them to be zero (or small) and untrainable.\n",
    "\n"
   ]
  },
  {
   "cell_type": "code",
   "execution_count": 14,
   "metadata": {
    "collapsed": true
   },
   "outputs": [],
   "source": [
    "from gpflow.params import Parameterized\n",
    "from gpflow.decors import params_as_tensors\n",
    "from gpflow import Param\n",
    "from gpflow.kernels import RBF, Stationary, Exponential\n",
    "import tensorflow as tf\n",
    "\n",
    "#Xavier random initialization of NN weights\n",
    "def xavier(dim_in, dim_out):\n",
    "    return np.random.randn(dim_in, dim_out)*(2./(dim_in+dim_out))**0.5\n",
    "\n",
    "class NN(Parameterized):\n",
    "    def __init__(self, dims):\n",
    "        Parameterized.__init__(self)\n",
    "        self.dims = dims\n",
    "        for i, (dim_in, dim_out) in enumerate(zip(dims[:-1], dims[1:])):\n",
    "            setattr(self, 'W_{}'.format(i), Param(xavier(dim_in, dim_out)))\n",
    "            setattr(self, 'b_{}'.format(i), Param(np.zeros(dim_out)))\n",
    "\n",
    "    def forward(self, X):\n",
    "        if X is not None:\n",
    "            for i in range(len(self.dims) - 1):\n",
    "                W = getattr(self, 'W_{}'.format(i))\n",
    "                b = getattr(self, 'b_{}'.format(i))\n",
    "                X = tf.nn.tanh(tf.matmul(X, W) + b)\n",
    "            return X\n",
    "\n",
    "class NN_Exponential(Exponential):\n",
    "    def __init__(self, nn, *args, **kw):\n",
    "        Exponential.__init__(self, *args, **kw)\n",
    "        self.nn = nn\n",
    "    \n",
    "    @params_as_tensors\n",
    "    def square_dist(self, X, X2):\n",
    "        return Exponential.square_dist(self, self.nn.forward(X), self.nn.forward(X2))\n",
    "        \n",
    "    @params_as_tensors\n",
    "    def K(self, X, X2=None, presliced=False):\n",
    "        if not presliced:\n",
    "            X, X2 = self._slice(X, X2)\n",
    "        return self.variance * tf.exp(-self.square_dist(X, X2) / 2)\n",
    "    \n",
    "#This doesnt work for Q > 1 for some reason\n",
    "# class NN_Exponential(Exponential):\n",
    "#     def __init__(self, nn, *args, **kw):\n",
    "#         Exponential.__init__(self, *args, **kw)\n",
    "#         self.nn = nn\n",
    "    \n",
    "#     def square_dist(self, X, X2):\n",
    "#         return Exponential.square_dist(self, self.nn.forward(X), self.nn.forward(X2))"
   ]
  },
  {
   "cell_type": "code",
   "execution_count": 15,
   "metadata": {
    "collapsed": true
   },
   "outputs": [],
   "source": [
    "#arrange data\n",
    "X = np.vstack((t,l)).T\n",
    "Y = np.vstack((y,l)).T\n",
    "\n",
    "#parameters\n",
    "input_dim = 1\n",
    "Q = 2   #number of latent functions\n",
    "R = 1   #rank of coreg matrix\n",
    "\n",
    "#standard kernels\n",
    "#k = [gpflow.kernels.Exponential(input_dim, lengthscales=np.random.randn(input_dim)) for q in range(Q)]\n",
    "# k = [gpflow.kernels.Exponential(input_dim, lengthscales=np.random.randn(input_dim)),\n",
    "#      gpflow.kernels.Matern32(input_dim, lengthscales=np.random.randn(input_dim))]\n",
    "\n",
    "#NN kernels\n",
    "nndim = [input_dim, 5, output_dim]\n",
    "k = [NN_Exponential(NN(nndim), input_dim, lengthscales=np.random.randn(input_dim)) for q in range(Q)]\n",
    "\n",
    "#make LMC\n",
    "coreg = [gpflow.kernels.Coregion(input_dim, output_dim=output_dim, rank=R, active_dims=[1]) for q in range(Q)]\n",
    "kern = coreg[0] * k[0]\n",
    "for q in range(1,Q):\n",
    "    kern += coreg[q] * k[q]\n",
    "\n",
    "lik = gpflow.likelihoods.SwitchedLikelihood([gpflow.likelihoods.StudentT()]*output_dim) \n",
    "m = gpflow.models.SVGP(X, Y, kern=kern, likelihood=lik, num_latent=1, Z=X[::3].copy())\n",
    "m.compile()\n",
    "\n",
    "#randomize coregionalization matrix W for best results\n",
    "if Q > 1:\n",
    "    m.kern.prod_1.coregion.W = np.random.randn(output_dim, R)\n",
    "    m.kern.prod_2.coregion.W = np.random.randn(output_dim, R)\n",
    "else:\n",
    "    m.kern.coregion.W = np.random.randn(output_dim, R)\n",
    "    #m.kern.coregion.kappa = np.zeros(output_dim) #force kappa terms to be 0 and untrainable\n",
    "    #m.kern.coregion.kappa.set_trainable(False)"
   ]
  },
  {
   "cell_type": "code",
   "execution_count": 5,
   "metadata": {},
   "outputs": [
    {
     "name": "stdout",
     "output_type": "stream",
     "text": [
      "<Parameter name:\u001b[1mSVGP/kern/prod_1/coregion/W\u001b[0m [trainable] shape:(3, 1) transform:(none) prior:None>\n",
      "value: [[-0.77785883],\n",
      "        [ 1.11584111],\n",
      "        [ 0.31027229]]\n",
      "\n",
      "<Parameter name:\u001b[1mSVGP/kern/prod_1/coregion/kappa\u001b[0m [trainable] shape:(3,) transform:+ve prior:None>\n",
      "value: [ 1.,  1.,  1.]\n",
      "\n",
      "<Parameter name:\u001b[1mSVGP/kern/prod_1/nn_exponential/variance\u001b[0m [trainable] shape:() transform:+ve prior:None>\n",
      "value: 1.0\n",
      "\n",
      "<Parameter name:\u001b[1mSVGP/kern/prod_1/nn_exponential/lengthscales\u001b[0m [trainable] shape:(1,) transform:+ve prior:None>\n",
      "value: [-1.02188594]\n",
      "\n",
      "<Parameter name:\u001b[1mSVGP/kern/prod_1/nn_exponential/nn/W_0\u001b[0m [trainable] shape:(1, 5) transform:(none) prior:None>\n",
      "value: [[ 1.05927472,  0.32584659,  1.23427561, -0.45352826, -1.01378414]]\n",
      "\n",
      "<Parameter name:\u001b[1mSVGP/kern/prod_1/nn_exponential/nn/b_0\u001b[0m [trainable] shape:(5,) transform:(none) prior:None>\n",
      "value: [ 0.,  0.,  0.,  0.,  0.]\n",
      "\n",
      "<Parameter name:\u001b[1mSVGP/kern/prod_1/nn_exponential/nn/W_1\u001b[0m [trainable] shape:(5, 3) transform:(none) prior:None>\n",
      "value: [[ 0.3573948 ,  0.42635203,  0.01768005],\n",
      "        [-0.76939662, -0.22394759,  0.30899277],\n",
      "        [-0.09208816, -0.05799259, -0.08772948],\n",
      "        [-0.46695733, -0.26651016, -0.71327771],\n",
      "        [ 0.88397997, -0.23768644,  0.23880509]]\n",
      "\n",
      "<Parameter name:\u001b[1mSVGP/kern/prod_1/nn_exponential/nn/b_1\u001b[0m [trainable] shape:(3,) transform:(none) prior:None>\n",
      "value: [ 0.,  0.,  0.]\n",
      "\n",
      "<Parameter name:\u001b[1mSVGP/kern/prod_2/coregion/W\u001b[0m [trainable] shape:(3, 1) transform:(none) prior:None>\n",
      "value: [[-2.09424782],\n",
      "        [-0.22876583],\n",
      "        [ 1.61336137]]\n",
      "\n",
      "<Parameter name:\u001b[1mSVGP/kern/prod_2/coregion/kappa\u001b[0m [trainable] shape:(3,) transform:+ve prior:None>\n",
      "value: [ 1.,  1.,  1.]\n",
      "\n",
      "<Parameter name:\u001b[1mSVGP/kern/prod_2/nn_exponential/variance\u001b[0m [trainable] shape:() transform:+ve prior:None>\n",
      "value: 1.0\n",
      "\n",
      "<Parameter name:\u001b[1mSVGP/kern/prod_2/nn_exponential/lengthscales\u001b[0m [trainable] shape:(1,) transform:+ve prior:None>\n",
      "value: [-1.77756638]\n",
      "\n",
      "<Parameter name:\u001b[1mSVGP/kern/prod_2/nn_exponential/nn/W_0\u001b[0m [trainable] shape:(1, 5) transform:(none) prior:None>\n",
      "value: [[ 0.45872109, -1.08146999,  0.53151739, -0.02041968,  1.2185584 ]]\n",
      "\n",
      "<Parameter name:\u001b[1mSVGP/kern/prod_2/nn_exponential/nn/b_0\u001b[0m [trainable] shape:(5,) transform:(none) prior:None>\n",
      "value: [ 0.,  0.,  0.,  0.,  0.]\n",
      "\n",
      "<Parameter name:\u001b[1mSVGP/kern/prod_2/nn_exponential/nn/W_1\u001b[0m [trainable] shape:(5, 3) transform:(none) prior:None>\n",
      "value: [[-0.65326704,  0.03819024,  0.18361591],\n",
      "        [ 0.6164496 , -0.21142848,  0.0432322 ],\n",
      "        [-1.07123336, -0.41508443,  0.22580798],\n",
      "        [ 0.55208716, -0.14086813,  1.02817776],\n",
      "        [ 0.88012461, -0.03032625, -1.2067515 ]]\n",
      "\n",
      "<Parameter name:\u001b[1mSVGP/kern/prod_2/nn_exponential/nn/b_1\u001b[0m [trainable] shape:(3,) transform:(none) prior:None>\n",
      "value: [ 0.,  0.,  0.]\n"
     ]
    }
   ],
   "source": [
    "print(kern)"
   ]
  },
  {
   "cell_type": "code",
   "execution_count": 16,
   "metadata": {},
   "outputs": [
    {
     "name": "stderr",
     "output_type": "stream",
     "text": [
      "/storage/work/ajs725/conda/install/lib/python3.6/site-packages/tensorflow/python/ops/gradients_impl.py:95: UserWarning: Converting sparse IndexedSlices to a dense Tensor of unknown shape. This may consume a large amount of memory.\n",
      "  \"Converting sparse IndexedSlices to a dense Tensor of unknown shape. \"\n"
     ]
    },
    {
     "name": "stdout",
     "output_type": "stream",
     "text": [
      "INFO:tensorflow:Optimization terminated with:\n",
      "  Message: b'CONVERGENCE: REL_REDUCTION_OF_F_<=_FACTR*EPSMCH'\n",
      "  Objective function value: -131.070025\n",
      "  Number of iterations: 502\n",
      "  Number of functions evaluations: 613\n"
     ]
    }
   ],
   "source": [
    "#optimize\n",
    "gpflow.train.ScipyOptimizer().minimize(m, maxiter=1000)"
   ]
  },
  {
   "cell_type": "code",
   "execution_count": 17,
   "metadata": {},
   "outputs": [
    {
     "data": {
      "image/png": "[encoded data removed]",
      "text/plain": [
       "<matplotlib.figure.Figure at 0x7f2984b8a6d8>"
      ]
     },
     "metadata": {},
     "output_type": "display_data"
    }
   ],
   "source": [
    "xtest = np.linspace(0, range_, npts)[:,None]\n",
    "for i in range(output_dim):\n",
    "    line, = plt.plot(t[l==i], y[l==i], '.')\n",
    "    mu, var = m.predict_f(np.hstack((xtest, i+np.zeros_like(xtest))))\n",
    "    #plt.plot(xtest, mu, color=line.get_color(), lw=2)\n",
    "    mu, var = mu.reshape(npts,), var.reshape(npts,)\n",
    "    plt.fill_between(xtest.reshape(npts,), mu-2*np.sqrt(var), mu+2*np.sqrt(var), color=line.get_color(), alpha=0.2)"
   ]
  },
  {
   "cell_type": "code",
   "execution_count": 18,
   "metadata": {},
   "outputs": [
    {
     "name": "stdout",
     "output_type": "stream",
     "text": [
      "<Parameter name:\u001b[1mSVGP/kern/prod_1/coregion/W\u001b[0m [trainable] shape:(3, 1) transform:(none) prior:None>\n",
      "value: [[ 0.03533566],\n",
      "        [-0.01269482],\n",
      "        [ 0.02008221]]\n",
      "\n",
      "<Parameter name:\u001b[1mSVGP/kern/prod_1/coregion/kappa\u001b[0m [trainable] shape:(3,) transform:+ve prior:None>\n",
      "value: [ 0.24703677,  0.20852117,  0.17536769]\n",
      "\n",
      "<Parameter name:\u001b[1mSVGP/kern/prod_1/nn_exponential/variance\u001b[0m [trainable] shape:() transform:+ve prior:None>\n",
      "value: 0.00017243630434970623\n",
      "\n",
      "<Parameter name:\u001b[1mSVGP/kern/prod_1/nn_exponential/lengthscales\u001b[0m [trainable] shape:(1,) transform:+ve prior:None>\n",
      "value: [  1.00000000e-06]\n",
      "\n",
      "<Parameter name:\u001b[1mSVGP/kern/prod_1/nn_exponential/nn/W_0\u001b[0m [trainable] shape:(1, 5) transform:(none) prior:None>\n",
      "value: [[ 0.10451804,  0.63924894,  0.83305482, -0.31157982,  0.07428315]]\n",
      "\n",
      "<Parameter name:\u001b[1mSVGP/kern/prod_1/nn_exponential/nn/b_0\u001b[0m [trainable] shape:(5,) transform:(none) prior:None>\n",
      "value: [  2.41517753e-04,   6.73878513e-06,   4.31238081e-06,\n",
      "         -1.88791579e-06,   5.85007850e-05]\n",
      "\n",
      "<Parameter name:\u001b[1mSVGP/kern/prod_1/nn_exponential/nn/W_1\u001b[0m [trainable] shape:(5, 3) transform:(none) prior:None>\n",
      "value: [[ 0.88020639,  0.48318621,  0.35631736],\n",
      "        [ 0.65311336, -0.30216054,  0.31828791],\n",
      "        [ 0.70463783,  0.81060946, -0.40307864],\n",
      "        [-0.12584184,  0.19131333, -0.14436528],\n",
      "        [-0.19590953,  0.34191409, -0.17688399]]\n",
      "\n",
      "<Parameter name:\u001b[1mSVGP/kern/prod_1/nn_exponential/nn/b_1\u001b[0m [trainable] shape:(3,) transform:(none) prior:None>\n",
      "value: [  1.21591621e-05,   1.58665057e-04,   2.02442495e-05]\n",
      "\n",
      "<Parameter name:\u001b[1mSVGP/kern/prod_2/coregion/W\u001b[0m [trainable] shape:(3, 1) transform:(none) prior:None>\n",
      "value: [[-0.40388866],\n",
      "        [-2.47927732],\n",
      "        [-0.02810237]]\n",
      "\n",
      "<Parameter name:\u001b[1mSVGP/kern/prod_2/coregion/kappa\u001b[0m [trainable] shape:(3,) transform:+ve prior:None>\n",
      "value: [ 2.5624286 ,  0.87854058,  0.40765213]\n",
      "\n",
      "<Parameter name:\u001b[1mSVGP/kern/prod_2/nn_exponential/variance\u001b[0m [trainable] shape:() transform:+ve prior:None>\n",
      "value: 0.060865604963484296\n",
      "\n",
      "<Parameter name:\u001b[1mSVGP/kern/prod_2/nn_exponential/lengthscales\u001b[0m [trainable] shape:(1,) transform:+ve prior:None>\n",
      "value: [ 0.23726259]\n",
      "\n",
      "<Parameter name:\u001b[1mSVGP/kern/prod_2/nn_exponential/nn/W_0\u001b[0m [trainable] shape:(1, 5) transform:(none) prior:None>\n",
      "value: [[ 2.99797894, -1.74964662, -0.08312646, -3.45884806,  0.28310905]]\n",
      "\n",
      "<Parameter name:\u001b[1mSVGP/kern/prod_2/nn_exponential/nn/b_0\u001b[0m [trainable] shape:(5,) transform:(none) prior:None>\n",
      "value: [ 1.50890942, -0.14322754,  0.52807278, -0.57955943, -1.75001724]\n",
      "\n",
      "<Parameter name:\u001b[1mSVGP/kern/prod_2/nn_exponential/nn/W_1\u001b[0m [trainable] shape:(5, 3) transform:(none) prior:None>\n",
      "value: [[-1.47259345, -0.92017628, -0.72730392],\n",
      "        [ 0.76792129,  0.55521405, -0.81485943],\n",
      "        [ 0.02725872, -0.13213924,  1.88060641],\n",
      "        [ 0.03239449,  0.28118401,  0.57726764],\n",
      "        [-0.15738625,  2.37383571, -0.63852357]]\n",
      "\n",
      "<Parameter name:\u001b[1mSVGP/kern/prod_2/nn_exponential/nn/b_1\u001b[0m [trainable] shape:(3,) transform:(none) prior:None>\n",
      "value: [-1.03892809, -0.49776537, -0.51590161]\n",
      "\n",
      "<Parameter name:\u001b[1mSVGP/likelihood/likelihood_list/item2/scale\u001b[0m [trainable] shape:() transform:+ve prior:None>\n",
      "value: 0.08388891672212237\n",
      "\n",
      "<Parameter name:\u001b[1mSVGP/likelihood/likelihood_list/item2/scale\u001b[0m [trainable] shape:() transform:+ve prior:None>\n",
      "value: 0.08388891672212237\n",
      "\n",
      "<Parameter name:\u001b[1mSVGP/likelihood/likelihood_list/item2/scale\u001b[0m [trainable] shape:() transform:+ve prior:None>\n",
      "value: 0.08388891672212237\n",
      "\n",
      "<Parameter name:\u001b[1mSVGP/Z\u001b[0m [trainable] shape:(100, 2) transform:(none) prior:None>\n",
      "value: [[ 1.0084503 ,  0.        ],\n",
      "        [ 0.89263786,  0.        ],\n",
      "        [ 1.10448793,  0.        ],\n",
      "        ..., \n",
      "        [ 9.03052094,  2.        ],\n",
      "        [ 9.31866637,  2.        ],\n",
      "        [ 9.61874405,  2.        ]]\n",
      "\n",
      "<Parameter name:\u001b[1mSVGP/q_mu\u001b[0m [trainable] shape:(100, 1) transform:(none) prior:None>\n",
      "value: [[-0.66154434],\n",
      "        [ 0.32369455],\n",
      "        [-0.61311811],\n",
      "        ..., \n",
      "        [ 0.29111285],\n",
      "        [ 0.10091005],\n",
      "        [-0.04111815]]\n",
      "\n",
      "<Parameter name:\u001b[1mSVGP/q_sqrt\u001b[0m [trainable] shape:(100, 100, 1) transform:LoTri->vec prior:None>\n",
      "value: [[[  1.11798281e-01],\n",
      "         [  0.00000000e+00],\n",
      "         [  0.00000000e+00],\n",
      "         ..., \n",
      "         [  0.00000000e+00],\n",
      "         [  0.00000000e+00],\n",
      "         [  0.00000000e+00]],\n",
      " \n",
      "        [[ -1.04334079e-01],\n",
      "         [  8.69990462e-01],\n",
      "         [  0.00000000e+00],\n",
      "         ..., \n",
      "         [  0.00000000e+00],\n",
      "         [  0.00000000e+00],\n",
      "         [  0.00000000e+00]],\n",
      " \n",
      "        [[ -1.51310036e-01],\n",
      "         [  8.19424174e-02],\n",
      "         [  6.12066231e-01],\n",
      "         ..., \n",
      "         [  0.00000000e+00],\n",
      "         [  0.00000000e+00],\n",
      "         [  0.00000000e+00]],\n",
      " \n",
      "        ..., \n",
      "        [[  8.21033862e-04],\n",
      "         [  7.96543330e-04],\n",
      "         [  6.22320645e-04],\n",
      "         ..., \n",
      "         [  9.74389986e-01],\n",
      "         [  0.00000000e+00],\n",
      "         [  0.00000000e+00]],\n",
      " \n",
      "        [[  7.90179021e-04],\n",
      "         [  7.29608279e-04],\n",
      "         [  5.56195883e-04],\n",
      "         ..., \n",
      "         [ -2.96202895e-03],\n",
      "         [  9.94719549e-01],\n",
      "         [  0.00000000e+00]],\n",
      " \n",
      "        [[  8.15900944e-04],\n",
      "         [  7.21489898e-04],\n",
      "         [  5.60572631e-04],\n",
      "         ..., \n",
      "         [  1.52742090e-02],\n",
      "         [ -1.34377406e-02],\n",
      "         [  9.75641705e-01]]]\n"
     ]
    }
   ],
   "source": [
    "print(m)"
   ]
  },
  {
   "cell_type": "markdown",
   "metadata": {},
   "source": [
    "## SCRATCH"
   ]
  },
  {
   "cell_type": "markdown",
   "metadata": {},
   "source": [
    "### Part 3 - Try and Model this with a NN kernel and/or adding multiple GPs together\n",
    "- https://github.com/GPflow/GPflow/issues/505 - end-to-end NN kernel with GP on top\n",
    "- https://github.com/GPflow/GPflow/issues/297#issuecomment-267765077 - combining GPs\n",
    "- https://gist.github.com/john-bradshaw/11bbf17dbca013d9fc3886a7bfe46840 - end to end training of NN + GP"
   ]
  },
  {
   "cell_type": "code",
   "execution_count": 5,
   "metadata": {
    "collapsed": true
   },
   "outputs": [],
   "source": [
    "from gpflow.params import ParamList\n",
    "class SVGPMultiKernel(gpflow.models.SVGP):\n",
    "    def __init__(self, X, Y, kern_list, likelihood, Z, **kw):\n",
    "        gpflow.models.SVGP.__init__(self, X, Y, kern_list[0], likelihood, Z, **kw)\n",
    "        #del self.kern\n",
    "        self.kern_list = ParamList(kern_list)\n",
    "        assert len(kern_list) == kw['num_latent']\n",
    "    \n",
    "    def build_predict(self, Xnew, full_cov=False):\n",
    "        mu, var = [], []\n",
    "        for k in range(len(self.kern_list)):\n",
    "            q_mu = self.q_mu[:, k, None]\n",
    "            q_sqrt = self.q_sqrt[:, k, None] if self.q_diag else self.q_sqrt[:, :, k, None]\n",
    "\n",
    "            m, v = gpflow.conditionals.conditional(Xnew, self.Z, self.kern_list[k], q_mu, q_sqrt=q_sqrt, \n",
    "                                                   full_cov=full_cov, whiten=self.whiten)\n",
    "            mu.append(m)\n",
    "            var.append(v)\n",
    "        mu = tf.concat(mu, -1)\n",
    "        var = tf.concat(var, -1)\n",
    "        \n",
    "        return mu + self.mean_function(Xnew), var"
   ]
  },
  {
   "cell_type": "code",
   "execution_count": 32,
   "metadata": {
    "collapsed": true
   },
   "outputs": [],
   "source": [
    "# #arrange data\n",
    "X = np.vstack((t,l)).T\n",
    "Y = np.vstack((y,l)).T\n",
    "\n",
    "kern_list = [gpflow.kernels.RBF(1, lengthscales=0.1), \n",
    "             gpflow.kernels.Matern32(1),\n",
    "             gpflow.kernels.RBF(1, lengthscales=0.1)]\n",
    "\n",
    "model_multi = SVGPMultiKernel(X, Y, kern_list, gpflow.likelihoods.MultiClass(3), X.copy(), num_latent=3)\n",
    "#model_multi = SVGPMultiKernel(X, Y, kern_list, gpflow.likelihoods.SwitchedLikelihood([gpflow.likelihoods.StudentT()]*ndim), X.copy(), num_latent=3)"
   ]
  },
  {
   "cell_type": "code",
   "execution_count": 33,
   "metadata": {},
   "outputs": [
    {
     "ename": "InvalidArgumentError",
     "evalue": "Incompatible shapes: [100,20] vs. [300,20]\n\t [[Node: 161/SVGPMultiKernel/sub_8 = Sub[T=DT_DOUBLE, _device=\"/job:localhost/replica:0/task:0/gpu:0\"](161/SVGPMultiKernel/Tile_1, 161/SVGPMultiKernel/add_5)]]\n\t [[Node: 161/SVGPMultiKernel/objective/_1531 = _Recv[client_terminated=false, recv_device=\"/job:localhost/replica:0/task:0/cpu:0\", send_device=\"/job:localhost/replica:0/task:0/gpu:0\", send_device_incarnation=1, tensor_name=\"edge_2244_161/SVGPMultiKernel/objective\", tensor_type=DT_DOUBLE, _device=\"/job:localhost/replica:0/task:0/cpu:0\"]()]]\n\nCaused by op '161/SVGPMultiKernel/sub_8', defined at:\n  File \"/storage/work/ajs725/conda/install/lib/python3.6/runpy.py\", line 193, in _run_module_as_main\n    \"__main__\", mod_spec)\n  File \"/storage/work/ajs725/conda/install/lib/python3.6/runpy.py\", line 85, in _run_code\n    exec(code, run_globals)\n  File \"/storage/work/ajs725/conda/install/lib/python3.6/site-packages/ipykernel_launcher.py\", line 16, in <module>\n    app.launch_new_instance()\n  File \"/storage/work/ajs725/conda/install/lib/python3.6/site-packages/traitlets/config/application.py\", line 658, in launch_instance\n    app.start()\n  File \"/storage/work/ajs725/conda/install/lib/python3.6/site-packages/ipykernel/kernelapp.py\", line 477, in start\n    ioloop.IOLoop.instance().start()\n  File \"/storage/work/ajs725/conda/install/lib/python3.6/site-packages/zmq/eventloop/ioloop.py\", line 177, in start\n    super(ZMQIOLoop, self).start()\n  File \"/storage/work/ajs725/conda/install/lib/python3.6/site-packages/tornado/ioloop.py\", line 888, in start\n    handler_func(fd_obj, events)\n  File \"/storage/work/ajs725/conda/install/lib/python3.6/site-packages/tornado/stack_context.py\", line 277, in null_wrapper\n    return fn(*args, **kwargs)\n  File \"/storage/work/ajs725/conda/install/lib/python3.6/site-packages/zmq/eventloop/zmqstream.py\", line 440, in _handle_events\n    self._handle_recv()\n  File \"/storage/work/ajs725/conda/install/lib/python3.6/site-packages/zmq/eventloop/zmqstream.py\", line 472, in _handle_recv\n    self._run_callback(callback, msg)\n  File \"/storage/work/ajs725/conda/install/lib/python3.6/site-packages/zmq/eventloop/zmqstream.py\", line 414, in _run_callback\n    callback(*args, **kwargs)\n  File \"/storage/work/ajs725/conda/install/lib/python3.6/site-packages/tornado/stack_context.py\", line 277, in null_wrapper\n    return fn(*args, **kwargs)\n  File \"/storage/work/ajs725/conda/install/lib/python3.6/site-packages/ipykernel/kernelbase.py\", line 283, in dispatcher\n    return self.dispatch_shell(stream, msg)\n  File \"/storage/work/ajs725/conda/install/lib/python3.6/site-packages/ipykernel/kernelbase.py\", line 235, in dispatch_shell\n    handler(stream, idents, msg)\n  File \"/storage/work/ajs725/conda/install/lib/python3.6/site-packages/ipykernel/kernelbase.py\", line 399, in execute_request\n    user_expressions, allow_stdin)\n  File \"/storage/work/ajs725/conda/install/lib/python3.6/site-packages/ipykernel/ipkernel.py\", line 196, in do_execute\n    res = shell.run_cell(code, store_history=store_history, silent=silent)\n  File \"/storage/work/ajs725/conda/install/lib/python3.6/site-packages/ipykernel/zmqshell.py\", line 533, in run_cell\n    return super(ZMQInteractiveShell, self).run_cell(*args, **kwargs)\n  File \"/storage/work/ajs725/conda/install/lib/python3.6/site-packages/IPython/core/interactiveshell.py\", line 2698, in run_cell\n    interactivity=interactivity, compiler=compiler, result=result)\n  File \"/storage/work/ajs725/conda/install/lib/python3.6/site-packages/IPython/core/interactiveshell.py\", line 2802, in run_ast_nodes\n    if self.run_code(code, result):\n  File \"/storage/work/ajs725/conda/install/lib/python3.6/site-packages/IPython/core/interactiveshell.py\", line 2862, in run_code\n    exec(code_obj, self.user_global_ns, self.user_ns)\n  File \"<ipython-input-32-17444052a6f7>\", line 10, in <module>\n    model_multi = SVGPMultiKernel(X, Y, kern_list, gpflow.likelihoods.SwitchedLikelihood([gpflow.likelihoods.StudentT()]*ndim), X.copy(), num_latent=3)\n  File \"/storage/work/ajs725/conda/install/lib/python3.6/site-packages/gpflow/core/compilable.py\", line 90, in __init__\n    self.build()\n  File \"/storage/work/ajs725/conda/install/lib/python3.6/site-packages/gpflow/core/node.py\", line 130, in build\n    self._build()\n  File \"/storage/work/ajs725/conda/install/lib/python3.6/site-packages/gpflow/models/model.py\", line 81, in _build\n    likelihood = self._build_likelihood()\n  File \"/storage/work/ajs725/conda/install/lib/python3.6/site-packages/gpflow/decors.py\", line 60, in tensor_mode_wrapper\n    result = method(obj, *args, **kwargs)\n  File \"/storage/work/ajs725/conda/install/lib/python3.6/site-packages/gpflow/models/svgp.py\", line 119, in _build_likelihood\n    var_exp = self.likelihood.variational_expectations(fmean, fvar, self.Y)\n  File \"/storage/work/ajs725/conda/install/lib/python3.6/site-packages/gpflow/likelihoods.py\", line 569, in variational_expectations\n    return self._partition_and_stitch([Fmu, Fvar, Y], 'variational_expectations')\n  File \"/storage/work/ajs725/conda/install/lib/python3.6/site-packages/gpflow/likelihoods.py\", line 554, in _partition_and_stitch\n    results = [f(*args_i) for f, args_i in zip(funcs, args)]\n  File \"/storage/work/ajs725/conda/install/lib/python3.6/site-packages/gpflow/likelihoods.py\", line 554, in <listcomp>\n    results = [f(*args_i) for f, args_i in zip(funcs, args)]\n  File \"/storage/work/ajs725/conda/install/lib/python3.6/site-packages/gpflow/likelihoods.py\", line 139, in variational_expectations\n    logp = self.logp(X, Y)\n  File \"/storage/work/ajs725/conda/install/lib/python3.6/site-packages/gpflow/decors.py\", line 60, in tensor_mode_wrapper\n    result = method(obj, *args, **kwargs)\n  File \"/storage/work/ajs725/conda/install/lib/python3.6/site-packages/gpflow/likelihoods.py\", line 264, in logp\n    return densities.student_t(Y, F, self.scale, self.deg_free)\n  File \"/storage/work/ajs725/conda/install/lib/python3.6/site-packages/gpflow/densities.py\", line 56, in student_t\n    tf.log(1. + (1. / deg_free) * (tf.square((x - mean) / scale)))\n  File \"/storage/work/ajs725/conda/install/lib/python3.6/site-packages/tensorflow/python/ops/math_ops.py\", line 865, in binary_op_wrapper\n    return func(x, y, name=name)\n  File \"/storage/work/ajs725/conda/install/lib/python3.6/site-packages/tensorflow/python/ops/gen_math_ops.py\", line 2629, in _sub\n    result = _op_def_lib.apply_op(\"Sub\", x=x, y=y, name=name)\n  File \"/storage/work/ajs725/conda/install/lib/python3.6/site-packages/tensorflow/python/framework/op_def_library.py\", line 767, in apply_op\n    op_def=op_def)\n  File \"/storage/work/ajs725/conda/install/lib/python3.6/site-packages/tensorflow/python/framework/ops.py\", line 2630, in create_op\n    original_op=self._default_original_op, op_def=op_def)\n  File \"/storage/work/ajs725/conda/install/lib/python3.6/site-packages/tensorflow/python/framework/ops.py\", line 1204, in __init__\n    self._traceback = self._graph._extract_stack()  # pylint: disable=protected-access\n\nInvalidArgumentError (see above for traceback): Incompatible shapes: [100,20] vs. [300,20]\n\t [[Node: 161/SVGPMultiKernel/sub_8 = Sub[T=DT_DOUBLE, _device=\"/job:localhost/replica:0/task:0/gpu:0\"](161/SVGPMultiKernel/Tile_1, 161/SVGPMultiKernel/add_5)]]\n\t [[Node: 161/SVGPMultiKernel/objective/_1531 = _Recv[client_terminated=false, recv_device=\"/job:localhost/replica:0/task:0/cpu:0\", send_device=\"/job:localhost/replica:0/task:0/gpu:0\", send_device_incarnation=1, tensor_name=\"edge_2244_161/SVGPMultiKernel/objective\", tensor_type=DT_DOUBLE, _device=\"/job:localhost/replica:0/task:0/cpu:0\"]()]]\n",
     "output_type": "error",
     "traceback": [
      "\u001b[0;31m---------------------------------------------------------------------------\u001b[0m",
      "\u001b[0;31mInvalidArgumentError\u001b[0m                      Traceback (most recent call last)",
      "\u001b[0;32m/storage/work/ajs725/conda/install/lib/python3.6/site-packages/tensorflow/python/client/session.py\u001b[0m in \u001b[0;36m_do_call\u001b[0;34m(self, fn, *args)\u001b[0m\n\u001b[1;32m   1326\u001b[0m     \u001b[0;32mtry\u001b[0m\u001b[0;34m:\u001b[0m\u001b[0;34m\u001b[0m\u001b[0m\n\u001b[0;32m-> 1327\u001b[0;31m       \u001b[0;32mreturn\u001b[0m \u001b[0mfn\u001b[0m\u001b[0;34m(\u001b[0m\u001b[0;34m*\u001b[0m\u001b[0margs\u001b[0m\u001b[0;34m)\u001b[0m\u001b[0;34m\u001b[0m\u001b[0m\n\u001b[0m\u001b[1;32m   1328\u001b[0m     \u001b[0;32mexcept\u001b[0m \u001b[0merrors\u001b[0m\u001b[0;34m.\u001b[0m\u001b[0mOpError\u001b[0m \u001b[0;32mas\u001b[0m \u001b[0me\u001b[0m\u001b[0;34m:\u001b[0m\u001b[0;34m\u001b[0m\u001b[0m\n",
      "\u001b[0;32m/storage/work/ajs725/conda/install/lib/python3.6/site-packages/tensorflow/python/client/session.py\u001b[0m in \u001b[0;36m_run_fn\u001b[0;34m(session, feed_dict, fetch_list, target_list, options, run_metadata)\u001b[0m\n\u001b[1;32m   1305\u001b[0m                                    \u001b[0mfeed_dict\u001b[0m\u001b[0;34m,\u001b[0m \u001b[0mfetch_list\u001b[0m\u001b[0;34m,\u001b[0m \u001b[0mtarget_list\u001b[0m\u001b[0;34m,\u001b[0m\u001b[0;34m\u001b[0m\u001b[0m\n\u001b[0;32m-> 1306\u001b[0;31m                                    status, run_metadata)\n\u001b[0m\u001b[1;32m   1307\u001b[0m \u001b[0;34m\u001b[0m\u001b[0m\n",
      "\u001b[0;32m/storage/work/ajs725/conda/install/lib/python3.6/contextlib.py\u001b[0m in \u001b[0;36m__exit__\u001b[0;34m(self, type, value, traceback)\u001b[0m\n\u001b[1;32m     87\u001b[0m             \u001b[0;32mtry\u001b[0m\u001b[0;34m:\u001b[0m\u001b[0;34m\u001b[0m\u001b[0m\n\u001b[0;32m---> 88\u001b[0;31m                 \u001b[0mnext\u001b[0m\u001b[0;34m(\u001b[0m\u001b[0mself\u001b[0m\u001b[0;34m.\u001b[0m\u001b[0mgen\u001b[0m\u001b[0;34m)\u001b[0m\u001b[0;34m\u001b[0m\u001b[0m\n\u001b[0m\u001b[1;32m     89\u001b[0m             \u001b[0;32mexcept\u001b[0m \u001b[0mStopIteration\u001b[0m\u001b[0;34m:\u001b[0m\u001b[0;34m\u001b[0m\u001b[0m\n",
      "\u001b[0;32m/storage/work/ajs725/conda/install/lib/python3.6/site-packages/tensorflow/python/framework/errors_impl.py\u001b[0m in \u001b[0;36mraise_exception_on_not_ok_status\u001b[0;34m()\u001b[0m\n\u001b[1;32m    465\u001b[0m           \u001b[0mcompat\u001b[0m\u001b[0;34m.\u001b[0m\u001b[0mas_text\u001b[0m\u001b[0;34m(\u001b[0m\u001b[0mpywrap_tensorflow\u001b[0m\u001b[0;34m.\u001b[0m\u001b[0mTF_Message\u001b[0m\u001b[0;34m(\u001b[0m\u001b[0mstatus\u001b[0m\u001b[0;34m)\u001b[0m\u001b[0;34m)\u001b[0m\u001b[0;34m,\u001b[0m\u001b[0;34m\u001b[0m\u001b[0m\n\u001b[0;32m--> 466\u001b[0;31m           pywrap_tensorflow.TF_GetCode(status))\n\u001b[0m\u001b[1;32m    467\u001b[0m   \u001b[0;32mfinally\u001b[0m\u001b[0;34m:\u001b[0m\u001b[0;34m\u001b[0m\u001b[0m\n",
      "\u001b[0;31mInvalidArgumentError\u001b[0m: Incompatible shapes: [100,20] vs. [300,20]\n\t [[Node: 161/SVGPMultiKernel/sub_8 = Sub[T=DT_DOUBLE, _device=\"/job:localhost/replica:0/task:0/gpu:0\"](161/SVGPMultiKernel/Tile_1, 161/SVGPMultiKernel/add_5)]]\n\t [[Node: 161/SVGPMultiKernel/objective/_1531 = _Recv[client_terminated=false, recv_device=\"/job:localhost/replica:0/task:0/cpu:0\", send_device=\"/job:localhost/replica:0/task:0/gpu:0\", send_device_incarnation=1, tensor_name=\"edge_2244_161/SVGPMultiKernel/objective\", tensor_type=DT_DOUBLE, _device=\"/job:localhost/replica:0/task:0/cpu:0\"]()]]",
      "\nDuring handling of the above exception, another exception occurred:\n",
      "\u001b[0;31mInvalidArgumentError\u001b[0m                      Traceback (most recent call last)",
      "\u001b[0;32m<ipython-input-33-b1d4f016d63f>\u001b[0m in \u001b[0;36m<module>\u001b[0;34m()\u001b[0m\n\u001b[0;32m----> 1\u001b[0;31m \u001b[0mgpflow\u001b[0m\u001b[0;34m.\u001b[0m\u001b[0mtrain\u001b[0m\u001b[0;34m.\u001b[0m\u001b[0mScipyOptimizer\u001b[0m\u001b[0;34m(\u001b[0m\u001b[0;34m)\u001b[0m\u001b[0;34m.\u001b[0m\u001b[0mminimize\u001b[0m\u001b[0;34m(\u001b[0m\u001b[0mmodel_multi\u001b[0m\u001b[0;34m,\u001b[0m \u001b[0mmaxiter\u001b[0m\u001b[0;34m=\u001b[0m\u001b[0;36m500\u001b[0m\u001b[0;34m)\u001b[0m\u001b[0;34m\u001b[0m\u001b[0m\n\u001b[0m",
      "\u001b[0;32m/storage/work/ajs725/conda/install/lib/python3.6/site-packages/gpflow/training/scipy_optimizer.py\u001b[0m in \u001b[0;36mminimize\u001b[0;34m(self, model, session, var_list, feed_dict, maxiter, initialize, anchor, **kwargs)\u001b[0m\n\u001b[1;32m     68\u001b[0m \u001b[0;34m\u001b[0m\u001b[0m\n\u001b[1;32m     69\u001b[0m         \u001b[0mfeed_dict\u001b[0m \u001b[0;34m=\u001b[0m \u001b[0mself\u001b[0m\u001b[0;34m.\u001b[0m\u001b[0m_gen_feed_dict\u001b[0m\u001b[0;34m(\u001b[0m\u001b[0mmodel\u001b[0m\u001b[0;34m,\u001b[0m \u001b[0mfeed_dict\u001b[0m\u001b[0;34m)\u001b[0m\u001b[0;34m\u001b[0m\u001b[0m\n\u001b[0;32m---> 70\u001b[0;31m         \u001b[0mself\u001b[0m\u001b[0;34m.\u001b[0m\u001b[0m_optimizer\u001b[0m\u001b[0;34m.\u001b[0m\u001b[0mminimize\u001b[0m\u001b[0;34m(\u001b[0m\u001b[0msession\u001b[0m\u001b[0;34m=\u001b[0m\u001b[0msession\u001b[0m\u001b[0;34m,\u001b[0m \u001b[0mfeed_dict\u001b[0m\u001b[0;34m=\u001b[0m\u001b[0mfeed_dict\u001b[0m\u001b[0;34m,\u001b[0m \u001b[0;34m**\u001b[0m\u001b[0mkwargs\u001b[0m\u001b[0;34m)\u001b[0m\u001b[0;34m\u001b[0m\u001b[0m\n\u001b[0m\u001b[1;32m     71\u001b[0m         \u001b[0;32mif\u001b[0m \u001b[0manchor\u001b[0m\u001b[0;34m:\u001b[0m\u001b[0;34m\u001b[0m\u001b[0m\n\u001b[1;32m     72\u001b[0m             \u001b[0mmodel\u001b[0m\u001b[0;34m.\u001b[0m\u001b[0manchor\u001b[0m\u001b[0;34m(\u001b[0m\u001b[0msession\u001b[0m\u001b[0;34m)\u001b[0m\u001b[0;34m\u001b[0m\u001b[0m\n",
      "\u001b[0;32m/storage/work/ajs725/conda/install/lib/python3.6/site-packages/gpflow/training/external_optimizer.py\u001b[0m in \u001b[0;36mminimize\u001b[0;34m(self, session, feed_dict, fetches, step_callback, loss_callback, **run_kwargs)\u001b[0m\n\u001b[1;32m    173\u001b[0m         \u001b[0mpacked_bounds\u001b[0m\u001b[0;34m=\u001b[0m\u001b[0mself\u001b[0m\u001b[0;34m.\u001b[0m\u001b[0m_packed_bounds\u001b[0m\u001b[0;34m,\u001b[0m\u001b[0;34m\u001b[0m\u001b[0m\n\u001b[1;32m    174\u001b[0m         \u001b[0mstep_callback\u001b[0m\u001b[0;34m=\u001b[0m\u001b[0mstep_callback\u001b[0m\u001b[0;34m,\u001b[0m\u001b[0;34m\u001b[0m\u001b[0m\n\u001b[0;32m--> 175\u001b[0;31m         optimizer_kwargs=self.optimizer_kwargs)\n\u001b[0m\u001b[1;32m    176\u001b[0m     var_vals = [\n\u001b[1;32m    177\u001b[0m         \u001b[0mpacked_var_val\u001b[0m\u001b[0;34m[\u001b[0m\u001b[0mpacking_slice\u001b[0m\u001b[0;34m]\u001b[0m \u001b[0;32mfor\u001b[0m \u001b[0mpacking_slice\u001b[0m \u001b[0;32min\u001b[0m \u001b[0mself\u001b[0m\u001b[0;34m.\u001b[0m\u001b[0m_packing_slices\u001b[0m\u001b[0;34m\u001b[0m\u001b[0m\n",
      "\u001b[0;32m/storage/work/ajs725/conda/install/lib/python3.6/site-packages/gpflow/training/external_optimizer.py\u001b[0m in \u001b[0;36m_minimize\u001b[0;34m(self, initial_val, loss_grad_func, equality_funcs, equality_grad_funcs, inequality_funcs, inequality_grad_funcs, packed_bounds, step_callback, optimizer_kwargs)\u001b[0m\n\u001b[1;32m    434\u001b[0m \u001b[0;34m\u001b[0m\u001b[0m\n\u001b[1;32m    435\u001b[0m     \u001b[0;32mimport\u001b[0m \u001b[0mscipy\u001b[0m\u001b[0;34m.\u001b[0m\u001b[0moptimize\u001b[0m  \u001b[0;31m# pylint: disable=g-import-not-at-top\u001b[0m\u001b[0;34m\u001b[0m\u001b[0m\n\u001b[0;32m--> 436\u001b[0;31m     \u001b[0mresult\u001b[0m \u001b[0;34m=\u001b[0m \u001b[0mscipy\u001b[0m\u001b[0;34m.\u001b[0m\u001b[0moptimize\u001b[0m\u001b[0;34m.\u001b[0m\u001b[0mminimize\u001b[0m\u001b[0;34m(\u001b[0m\u001b[0;34m*\u001b[0m\u001b[0mminimize_args\u001b[0m\u001b[0;34m,\u001b[0m \u001b[0;34m**\u001b[0m\u001b[0mminimize_kwargs\u001b[0m\u001b[0;34m)\u001b[0m\u001b[0;34m\u001b[0m\u001b[0m\n\u001b[0m\u001b[1;32m    437\u001b[0m     logging.info('Optimization terminated with:\\n'\n\u001b[1;32m    438\u001b[0m                  \u001b[0;34m'  Message: %s\\n'\u001b[0m\u001b[0;34m\u001b[0m\u001b[0m\n",
      "\u001b[0;32m/storage/work/ajs725/conda/install/lib/python3.6/site-packages/scipy/optimize/_minimize.py\u001b[0m in \u001b[0;36mminimize\u001b[0;34m(fun, x0, args, method, jac, hess, hessp, bounds, constraints, tol, callback, options)\u001b[0m\n\u001b[1;32m    448\u001b[0m     \u001b[0;32melif\u001b[0m \u001b[0mmeth\u001b[0m \u001b[0;34m==\u001b[0m \u001b[0;34m'l-bfgs-b'\u001b[0m\u001b[0;34m:\u001b[0m\u001b[0;34m\u001b[0m\u001b[0m\n\u001b[1;32m    449\u001b[0m         return _minimize_lbfgsb(fun, x0, args, jac, bounds,\n\u001b[0;32m--> 450\u001b[0;31m                                 callback=callback, **options)\n\u001b[0m\u001b[1;32m    451\u001b[0m     \u001b[0;32melif\u001b[0m \u001b[0mmeth\u001b[0m \u001b[0;34m==\u001b[0m \u001b[0;34m'tnc'\u001b[0m\u001b[0;34m:\u001b[0m\u001b[0;34m\u001b[0m\u001b[0m\n\u001b[1;32m    452\u001b[0m         return _minimize_tnc(fun, x0, args, jac, bounds, callback=callback,\n",
      "\u001b[0;32m/storage/work/ajs725/conda/install/lib/python3.6/site-packages/scipy/optimize/lbfgsb.py\u001b[0m in \u001b[0;36m_minimize_lbfgsb\u001b[0;34m(fun, x0, args, jac, bounds, disp, maxcor, ftol, gtol, eps, maxfun, maxiter, iprint, callback, maxls, **unknown_options)\u001b[0m\n\u001b[1;32m    326\u001b[0m             \u001b[0;31m# until the completion of the current minimization iteration.\u001b[0m\u001b[0;34m\u001b[0m\u001b[0;34m\u001b[0m\u001b[0m\n\u001b[1;32m    327\u001b[0m             \u001b[0;31m# Overwrite f and g:\u001b[0m\u001b[0;34m\u001b[0m\u001b[0;34m\u001b[0m\u001b[0m\n\u001b[0;32m--> 328\u001b[0;31m             \u001b[0mf\u001b[0m\u001b[0;34m,\u001b[0m \u001b[0mg\u001b[0m \u001b[0;34m=\u001b[0m \u001b[0mfunc_and_grad\u001b[0m\u001b[0;34m(\u001b[0m\u001b[0mx\u001b[0m\u001b[0;34m)\u001b[0m\u001b[0;34m\u001b[0m\u001b[0m\n\u001b[0m\u001b[1;32m    329\u001b[0m         \u001b[0;32melif\u001b[0m \u001b[0mtask_str\u001b[0m\u001b[0;34m.\u001b[0m\u001b[0mstartswith\u001b[0m\u001b[0;34m(\u001b[0m\u001b[0;34mb'NEW_X'\u001b[0m\u001b[0;34m)\u001b[0m\u001b[0;34m:\u001b[0m\u001b[0;34m\u001b[0m\u001b[0m\n\u001b[1;32m    330\u001b[0m             \u001b[0;31m# new iteration\u001b[0m\u001b[0;34m\u001b[0m\u001b[0;34m\u001b[0m\u001b[0m\n",
      "\u001b[0;32m/storage/work/ajs725/conda/install/lib/python3.6/site-packages/scipy/optimize/lbfgsb.py\u001b[0m in \u001b[0;36mfunc_and_grad\u001b[0;34m(x)\u001b[0m\n\u001b[1;32m    276\u001b[0m     \u001b[0;32melse\u001b[0m\u001b[0;34m:\u001b[0m\u001b[0;34m\u001b[0m\u001b[0m\n\u001b[1;32m    277\u001b[0m         \u001b[0;32mdef\u001b[0m \u001b[0mfunc_and_grad\u001b[0m\u001b[0;34m(\u001b[0m\u001b[0mx\u001b[0m\u001b[0;34m)\u001b[0m\u001b[0;34m:\u001b[0m\u001b[0;34m\u001b[0m\u001b[0m\n\u001b[0;32m--> 278\u001b[0;31m             \u001b[0mf\u001b[0m \u001b[0;34m=\u001b[0m \u001b[0mfun\u001b[0m\u001b[0;34m(\u001b[0m\u001b[0mx\u001b[0m\u001b[0;34m,\u001b[0m \u001b[0;34m*\u001b[0m\u001b[0margs\u001b[0m\u001b[0;34m)\u001b[0m\u001b[0;34m\u001b[0m\u001b[0m\n\u001b[0m\u001b[1;32m    279\u001b[0m             \u001b[0mg\u001b[0m \u001b[0;34m=\u001b[0m \u001b[0mjac\u001b[0m\u001b[0;34m(\u001b[0m\u001b[0mx\u001b[0m\u001b[0;34m,\u001b[0m \u001b[0;34m*\u001b[0m\u001b[0margs\u001b[0m\u001b[0;34m)\u001b[0m\u001b[0;34m\u001b[0m\u001b[0m\n\u001b[1;32m    280\u001b[0m             \u001b[0;32mreturn\u001b[0m \u001b[0mf\u001b[0m\u001b[0;34m,\u001b[0m \u001b[0mg\u001b[0m\u001b[0;34m\u001b[0m\u001b[0m\n",
      "\u001b[0;32m/storage/work/ajs725/conda/install/lib/python3.6/site-packages/scipy/optimize/optimize.py\u001b[0m in \u001b[0;36mfunction_wrapper\u001b[0;34m(*wrapper_args)\u001b[0m\n\u001b[1;32m    290\u001b[0m     \u001b[0;32mdef\u001b[0m \u001b[0mfunction_wrapper\u001b[0m\u001b[0;34m(\u001b[0m\u001b[0;34m*\u001b[0m\u001b[0mwrapper_args\u001b[0m\u001b[0;34m)\u001b[0m\u001b[0;34m:\u001b[0m\u001b[0;34m\u001b[0m\u001b[0m\n\u001b[1;32m    291\u001b[0m         \u001b[0mncalls\u001b[0m\u001b[0;34m[\u001b[0m\u001b[0;36m0\u001b[0m\u001b[0;34m]\u001b[0m \u001b[0;34m+=\u001b[0m \u001b[0;36m1\u001b[0m\u001b[0;34m\u001b[0m\u001b[0m\n\u001b[0;32m--> 292\u001b[0;31m         \u001b[0;32mreturn\u001b[0m \u001b[0mfunction\u001b[0m\u001b[0;34m(\u001b[0m\u001b[0;34m*\u001b[0m\u001b[0;34m(\u001b[0m\u001b[0mwrapper_args\u001b[0m \u001b[0;34m+\u001b[0m \u001b[0margs\u001b[0m\u001b[0;34m)\u001b[0m\u001b[0;34m)\u001b[0m\u001b[0;34m\u001b[0m\u001b[0m\n\u001b[0m\u001b[1;32m    293\u001b[0m \u001b[0;34m\u001b[0m\u001b[0m\n\u001b[1;32m    294\u001b[0m     \u001b[0;32mreturn\u001b[0m \u001b[0mncalls\u001b[0m\u001b[0;34m,\u001b[0m \u001b[0mfunction_wrapper\u001b[0m\u001b[0;34m\u001b[0m\u001b[0m\n",
      "\u001b[0;32m/storage/work/ajs725/conda/install/lib/python3.6/site-packages/scipy/optimize/optimize.py\u001b[0m in \u001b[0;36m__call__\u001b[0;34m(self, x, *args)\u001b[0m\n\u001b[1;32m     61\u001b[0m     \u001b[0;32mdef\u001b[0m \u001b[0m__call__\u001b[0m\u001b[0;34m(\u001b[0m\u001b[0mself\u001b[0m\u001b[0;34m,\u001b[0m \u001b[0mx\u001b[0m\u001b[0;34m,\u001b[0m \u001b[0;34m*\u001b[0m\u001b[0margs\u001b[0m\u001b[0;34m)\u001b[0m\u001b[0;34m:\u001b[0m\u001b[0;34m\u001b[0m\u001b[0m\n\u001b[1;32m     62\u001b[0m         \u001b[0mself\u001b[0m\u001b[0;34m.\u001b[0m\u001b[0mx\u001b[0m \u001b[0;34m=\u001b[0m \u001b[0mnumpy\u001b[0m\u001b[0;34m.\u001b[0m\u001b[0masarray\u001b[0m\u001b[0;34m(\u001b[0m\u001b[0mx\u001b[0m\u001b[0;34m)\u001b[0m\u001b[0;34m.\u001b[0m\u001b[0mcopy\u001b[0m\u001b[0;34m(\u001b[0m\u001b[0;34m)\u001b[0m\u001b[0;34m\u001b[0m\u001b[0m\n\u001b[0;32m---> 63\u001b[0;31m         \u001b[0mfg\u001b[0m \u001b[0;34m=\u001b[0m \u001b[0mself\u001b[0m\u001b[0;34m.\u001b[0m\u001b[0mfun\u001b[0m\u001b[0;34m(\u001b[0m\u001b[0mx\u001b[0m\u001b[0;34m,\u001b[0m \u001b[0;34m*\u001b[0m\u001b[0margs\u001b[0m\u001b[0;34m)\u001b[0m\u001b[0;34m\u001b[0m\u001b[0m\n\u001b[0m\u001b[1;32m     64\u001b[0m         \u001b[0mself\u001b[0m\u001b[0;34m.\u001b[0m\u001b[0mjac\u001b[0m \u001b[0;34m=\u001b[0m \u001b[0mfg\u001b[0m\u001b[0;34m[\u001b[0m\u001b[0;36m1\u001b[0m\u001b[0;34m]\u001b[0m\u001b[0;34m\u001b[0m\u001b[0m\n\u001b[1;32m     65\u001b[0m         \u001b[0;32mreturn\u001b[0m \u001b[0mfg\u001b[0m\u001b[0;34m[\u001b[0m\u001b[0;36m0\u001b[0m\u001b[0;34m]\u001b[0m\u001b[0;34m\u001b[0m\u001b[0m\n",
      "\u001b[0;32m/storage/work/ajs725/conda/install/lib/python3.6/site-packages/gpflow/training/external_optimizer.py\u001b[0m in \u001b[0;36mloss_grad_func_wrapper\u001b[0;34m(x)\u001b[0m\n\u001b[1;32m    396\u001b[0m     \u001b[0;32mdef\u001b[0m \u001b[0mloss_grad_func_wrapper\u001b[0m\u001b[0;34m(\u001b[0m\u001b[0mx\u001b[0m\u001b[0;34m)\u001b[0m\u001b[0;34m:\u001b[0m\u001b[0;34m\u001b[0m\u001b[0m\n\u001b[1;32m    397\u001b[0m       \u001b[0;31m# SciPy's L-BFGS-B Fortran implementation requires gradients as doubles.\u001b[0m\u001b[0;34m\u001b[0m\u001b[0;34m\u001b[0m\u001b[0m\n\u001b[0;32m--> 398\u001b[0;31m       \u001b[0mloss\u001b[0m\u001b[0;34m,\u001b[0m \u001b[0mgradient\u001b[0m \u001b[0;34m=\u001b[0m \u001b[0mloss_grad_func\u001b[0m\u001b[0;34m(\u001b[0m\u001b[0mx\u001b[0m\u001b[0;34m)\u001b[0m\u001b[0;34m\u001b[0m\u001b[0m\n\u001b[0m\u001b[1;32m    399\u001b[0m       \u001b[0;32mreturn\u001b[0m \u001b[0mloss\u001b[0m\u001b[0;34m,\u001b[0m \u001b[0mgradient\u001b[0m\u001b[0;34m.\u001b[0m\u001b[0mastype\u001b[0m\u001b[0;34m(\u001b[0m\u001b[0;34m'float64'\u001b[0m\u001b[0;34m)\u001b[0m\u001b[0;34m\u001b[0m\u001b[0m\n\u001b[1;32m    400\u001b[0m \u001b[0;34m\u001b[0m\u001b[0m\n",
      "\u001b[0;32m/storage/work/ajs725/conda/install/lib/python3.6/site-packages/gpflow/training/external_optimizer.py\u001b[0m in \u001b[0;36meval_func\u001b[0;34m(x)\u001b[0m\n\u001b[1;32m    307\u001b[0m \u001b[0;34m\u001b[0m\u001b[0m\n\u001b[1;32m    308\u001b[0m       augmented_fetch_vals = session.run(\n\u001b[0;32m--> 309\u001b[0;31m           augmented_fetches, feed_dict=augmented_feed_dict)\n\u001b[0m\u001b[1;32m    310\u001b[0m \u001b[0;34m\u001b[0m\u001b[0m\n\u001b[1;32m    311\u001b[0m       \u001b[0;32mif\u001b[0m \u001b[0mcallable\u001b[0m\u001b[0;34m(\u001b[0m\u001b[0mcallback\u001b[0m\u001b[0;34m)\u001b[0m\u001b[0;34m:\u001b[0m\u001b[0;34m\u001b[0m\u001b[0m\n",
      "\u001b[0;32m/storage/work/ajs725/conda/install/lib/python3.6/site-packages/tensorflow/python/client/session.py\u001b[0m in \u001b[0;36mrun\u001b[0;34m(self, fetches, feed_dict, options, run_metadata)\u001b[0m\n\u001b[1;32m    893\u001b[0m     \u001b[0;32mtry\u001b[0m\u001b[0;34m:\u001b[0m\u001b[0;34m\u001b[0m\u001b[0m\n\u001b[1;32m    894\u001b[0m       result = self._run(None, fetches, feed_dict, options_ptr,\n\u001b[0;32m--> 895\u001b[0;31m                          run_metadata_ptr)\n\u001b[0m\u001b[1;32m    896\u001b[0m       \u001b[0;32mif\u001b[0m \u001b[0mrun_metadata\u001b[0m\u001b[0;34m:\u001b[0m\u001b[0;34m\u001b[0m\u001b[0m\n\u001b[1;32m    897\u001b[0m         \u001b[0mproto_data\u001b[0m \u001b[0;34m=\u001b[0m \u001b[0mtf_session\u001b[0m\u001b[0;34m.\u001b[0m\u001b[0mTF_GetBuffer\u001b[0m\u001b[0;34m(\u001b[0m\u001b[0mrun_metadata_ptr\u001b[0m\u001b[0;34m)\u001b[0m\u001b[0;34m\u001b[0m\u001b[0m\n",
      "\u001b[0;32m/storage/work/ajs725/conda/install/lib/python3.6/site-packages/tensorflow/python/client/session.py\u001b[0m in \u001b[0;36m_run\u001b[0;34m(self, handle, fetches, feed_dict, options, run_metadata)\u001b[0m\n\u001b[1;32m   1122\u001b[0m     \u001b[0;32mif\u001b[0m \u001b[0mfinal_fetches\u001b[0m \u001b[0;32mor\u001b[0m \u001b[0mfinal_targets\u001b[0m \u001b[0;32mor\u001b[0m \u001b[0;34m(\u001b[0m\u001b[0mhandle\u001b[0m \u001b[0;32mand\u001b[0m \u001b[0mfeed_dict_tensor\u001b[0m\u001b[0;34m)\u001b[0m\u001b[0;34m:\u001b[0m\u001b[0;34m\u001b[0m\u001b[0m\n\u001b[1;32m   1123\u001b[0m       results = self._do_run(handle, final_targets, final_fetches,\n\u001b[0;32m-> 1124\u001b[0;31m                              feed_dict_tensor, options, run_metadata)\n\u001b[0m\u001b[1;32m   1125\u001b[0m     \u001b[0;32melse\u001b[0m\u001b[0;34m:\u001b[0m\u001b[0;34m\u001b[0m\u001b[0m\n\u001b[1;32m   1126\u001b[0m       \u001b[0mresults\u001b[0m \u001b[0;34m=\u001b[0m \u001b[0;34m[\u001b[0m\u001b[0;34m]\u001b[0m\u001b[0;34m\u001b[0m\u001b[0m\n",
      "\u001b[0;32m/storage/work/ajs725/conda/install/lib/python3.6/site-packages/tensorflow/python/client/session.py\u001b[0m in \u001b[0;36m_do_run\u001b[0;34m(self, handle, target_list, fetch_list, feed_dict, options, run_metadata)\u001b[0m\n\u001b[1;32m   1319\u001b[0m     \u001b[0;32mif\u001b[0m \u001b[0mhandle\u001b[0m \u001b[0;32mis\u001b[0m \u001b[0;32mNone\u001b[0m\u001b[0;34m:\u001b[0m\u001b[0;34m\u001b[0m\u001b[0m\n\u001b[1;32m   1320\u001b[0m       return self._do_call(_run_fn, self._session, feeds, fetches, targets,\n\u001b[0;32m-> 1321\u001b[0;31m                            options, run_metadata)\n\u001b[0m\u001b[1;32m   1322\u001b[0m     \u001b[0;32melse\u001b[0m\u001b[0;34m:\u001b[0m\u001b[0;34m\u001b[0m\u001b[0m\n\u001b[1;32m   1323\u001b[0m       \u001b[0;32mreturn\u001b[0m \u001b[0mself\u001b[0m\u001b[0;34m.\u001b[0m\u001b[0m_do_call\u001b[0m\u001b[0;34m(\u001b[0m\u001b[0m_prun_fn\u001b[0m\u001b[0;34m,\u001b[0m \u001b[0mself\u001b[0m\u001b[0;34m.\u001b[0m\u001b[0m_session\u001b[0m\u001b[0;34m,\u001b[0m \u001b[0mhandle\u001b[0m\u001b[0;34m,\u001b[0m \u001b[0mfeeds\u001b[0m\u001b[0;34m,\u001b[0m \u001b[0mfetches\u001b[0m\u001b[0;34m)\u001b[0m\u001b[0;34m\u001b[0m\u001b[0m\n",
      "\u001b[0;32m/storage/work/ajs725/conda/install/lib/python3.6/site-packages/tensorflow/python/client/session.py\u001b[0m in \u001b[0;36m_do_call\u001b[0;34m(self, fn, *args)\u001b[0m\n\u001b[1;32m   1338\u001b[0m         \u001b[0;32mexcept\u001b[0m \u001b[0mKeyError\u001b[0m\u001b[0;34m:\u001b[0m\u001b[0;34m\u001b[0m\u001b[0m\n\u001b[1;32m   1339\u001b[0m           \u001b[0;32mpass\u001b[0m\u001b[0;34m\u001b[0m\u001b[0m\n\u001b[0;32m-> 1340\u001b[0;31m       \u001b[0;32mraise\u001b[0m \u001b[0mtype\u001b[0m\u001b[0;34m(\u001b[0m\u001b[0me\u001b[0m\u001b[0;34m)\u001b[0m\u001b[0;34m(\u001b[0m\u001b[0mnode_def\u001b[0m\u001b[0;34m,\u001b[0m \u001b[0mop\u001b[0m\u001b[0;34m,\u001b[0m \u001b[0mmessage\u001b[0m\u001b[0;34m)\u001b[0m\u001b[0;34m\u001b[0m\u001b[0m\n\u001b[0m\u001b[1;32m   1341\u001b[0m \u001b[0;34m\u001b[0m\u001b[0m\n\u001b[1;32m   1342\u001b[0m   \u001b[0;32mdef\u001b[0m \u001b[0m_extend_graph\u001b[0m\u001b[0;34m(\u001b[0m\u001b[0mself\u001b[0m\u001b[0;34m)\u001b[0m\u001b[0;34m:\u001b[0m\u001b[0;34m\u001b[0m\u001b[0m\n",
      "\u001b[0;31mInvalidArgumentError\u001b[0m: Incompatible shapes: [100,20] vs. [300,20]\n\t [[Node: 161/SVGPMultiKernel/sub_8 = Sub[T=DT_DOUBLE, _device=\"/job:localhost/replica:0/task:0/gpu:0\"](161/SVGPMultiKernel/Tile_1, 161/SVGPMultiKernel/add_5)]]\n\t [[Node: 161/SVGPMultiKernel/objective/_1531 = _Recv[client_terminated=false, recv_device=\"/job:localhost/replica:0/task:0/cpu:0\", send_device=\"/job:localhost/replica:0/task:0/gpu:0\", send_device_incarnation=1, tensor_name=\"edge_2244_161/SVGPMultiKernel/objective\", tensor_type=DT_DOUBLE, _device=\"/job:localhost/replica:0/task:0/cpu:0\"]()]]\n\nCaused by op '161/SVGPMultiKernel/sub_8', defined at:\n  File \"/storage/work/ajs725/conda/install/lib/python3.6/runpy.py\", line 193, in _run_module_as_main\n    \"__main__\", mod_spec)\n  File \"/storage/work/ajs725/conda/install/lib/python3.6/runpy.py\", line 85, in _run_code\n    exec(code, run_globals)\n  File \"/storage/work/ajs725/conda/install/lib/python3.6/site-packages/ipykernel_launcher.py\", line 16, in <module>\n    app.launch_new_instance()\n  File \"/storage/work/ajs725/conda/install/lib/python3.6/site-packages/traitlets/config/application.py\", line 658, in launch_instance\n    app.start()\n  File \"/storage/work/ajs725/conda/install/lib/python3.6/site-packages/ipykernel/kernelapp.py\", line 477, in start\n    ioloop.IOLoop.instance().start()\n  File \"/storage/work/ajs725/conda/install/lib/python3.6/site-packages/zmq/eventloop/ioloop.py\", line 177, in start\n    super(ZMQIOLoop, self).start()\n  File \"/storage/work/ajs725/conda/install/lib/python3.6/site-packages/tornado/ioloop.py\", line 888, in start\n    handler_func(fd_obj, events)\n  File \"/storage/work/ajs725/conda/install/lib/python3.6/site-packages/tornado/stack_context.py\", line 277, in null_wrapper\n    return fn(*args, **kwargs)\n  File \"/storage/work/ajs725/conda/install/lib/python3.6/site-packages/zmq/eventloop/zmqstream.py\", line 440, in _handle_events\n    self._handle_recv()\n  File \"/storage/work/ajs725/conda/install/lib/python3.6/site-packages/zmq/eventloop/zmqstream.py\", line 472, in _handle_recv\n    self._run_callback(callback, msg)\n  File \"/storage/work/ajs725/conda/install/lib/python3.6/site-packages/zmq/eventloop/zmqstream.py\", line 414, in _run_callback\n    callback(*args, **kwargs)\n  File \"/storage/work/ajs725/conda/install/lib/python3.6/site-packages/tornado/stack_context.py\", line 277, in null_wrapper\n    return fn(*args, **kwargs)\n  File \"/storage/work/ajs725/conda/install/lib/python3.6/site-packages/ipykernel/kernelbase.py\", line 283, in dispatcher\n    return self.dispatch_shell(stream, msg)\n  File \"/storage/work/ajs725/conda/install/lib/python3.6/site-packages/ipykernel/kernelbase.py\", line 235, in dispatch_shell\n    handler(stream, idents, msg)\n  File \"/storage/work/ajs725/conda/install/lib/python3.6/site-packages/ipykernel/kernelbase.py\", line 399, in execute_request\n    user_expressions, allow_stdin)\n  File \"/storage/work/ajs725/conda/install/lib/python3.6/site-packages/ipykernel/ipkernel.py\", line 196, in do_execute\n    res = shell.run_cell(code, store_history=store_history, silent=silent)\n  File \"/storage/work/ajs725/conda/install/lib/python3.6/site-packages/ipykernel/zmqshell.py\", line 533, in run_cell\n    return super(ZMQInteractiveShell, self).run_cell(*args, **kwargs)\n  File \"/storage/work/ajs725/conda/install/lib/python3.6/site-packages/IPython/core/interactiveshell.py\", line 2698, in run_cell\n    interactivity=interactivity, compiler=compiler, result=result)\n  File \"/storage/work/ajs725/conda/install/lib/python3.6/site-packages/IPython/core/interactiveshell.py\", line 2802, in run_ast_nodes\n    if self.run_code(code, result):\n  File \"/storage/work/ajs725/conda/install/lib/python3.6/site-packages/IPython/core/interactiveshell.py\", line 2862, in run_code\n    exec(code_obj, self.user_global_ns, self.user_ns)\n  File \"<ipython-input-32-17444052a6f7>\", line 10, in <module>\n    model_multi = SVGPMultiKernel(X, Y, kern_list, gpflow.likelihoods.SwitchedLikelihood([gpflow.likelihoods.StudentT()]*ndim), X.copy(), num_latent=3)\n  File \"/storage/work/ajs725/conda/install/lib/python3.6/site-packages/gpflow/core/compilable.py\", line 90, in __init__\n    self.build()\n  File \"/storage/work/ajs725/conda/install/lib/python3.6/site-packages/gpflow/core/node.py\", line 130, in build\n    self._build()\n  File \"/storage/work/ajs725/conda/install/lib/python3.6/site-packages/gpflow/models/model.py\", line 81, in _build\n    likelihood = self._build_likelihood()\n  File \"/storage/work/ajs725/conda/install/lib/python3.6/site-packages/gpflow/decors.py\", line 60, in tensor_mode_wrapper\n    result = method(obj, *args, **kwargs)\n  File \"/storage/work/ajs725/conda/install/lib/python3.6/site-packages/gpflow/models/svgp.py\", line 119, in _build_likelihood\n    var_exp = self.likelihood.variational_expectations(fmean, fvar, self.Y)\n  File \"/storage/work/ajs725/conda/install/lib/python3.6/site-packages/gpflow/likelihoods.py\", line 569, in variational_expectations\n    return self._partition_and_stitch([Fmu, Fvar, Y], 'variational_expectations')\n  File \"/storage/work/ajs725/conda/install/lib/python3.6/site-packages/gpflow/likelihoods.py\", line 554, in _partition_and_stitch\n    results = [f(*args_i) for f, args_i in zip(funcs, args)]\n  File \"/storage/work/ajs725/conda/install/lib/python3.6/site-packages/gpflow/likelihoods.py\", line 554, in <listcomp>\n    results = [f(*args_i) for f, args_i in zip(funcs, args)]\n  File \"/storage/work/ajs725/conda/install/lib/python3.6/site-packages/gpflow/likelihoods.py\", line 139, in variational_expectations\n    logp = self.logp(X, Y)\n  File \"/storage/work/ajs725/conda/install/lib/python3.6/site-packages/gpflow/decors.py\", line 60, in tensor_mode_wrapper\n    result = method(obj, *args, **kwargs)\n  File \"/storage/work/ajs725/conda/install/lib/python3.6/site-packages/gpflow/likelihoods.py\", line 264, in logp\n    return densities.student_t(Y, F, self.scale, self.deg_free)\n  File \"/storage/work/ajs725/conda/install/lib/python3.6/site-packages/gpflow/densities.py\", line 56, in student_t\n    tf.log(1. + (1. / deg_free) * (tf.square((x - mean) / scale)))\n  File \"/storage/work/ajs725/conda/install/lib/python3.6/site-packages/tensorflow/python/ops/math_ops.py\", line 865, in binary_op_wrapper\n    return func(x, y, name=name)\n  File \"/storage/work/ajs725/conda/install/lib/python3.6/site-packages/tensorflow/python/ops/gen_math_ops.py\", line 2629, in _sub\n    result = _op_def_lib.apply_op(\"Sub\", x=x, y=y, name=name)\n  File \"/storage/work/ajs725/conda/install/lib/python3.6/site-packages/tensorflow/python/framework/op_def_library.py\", line 767, in apply_op\n    op_def=op_def)\n  File \"/storage/work/ajs725/conda/install/lib/python3.6/site-packages/tensorflow/python/framework/ops.py\", line 2630, in create_op\n    original_op=self._default_original_op, op_def=op_def)\n  File \"/storage/work/ajs725/conda/install/lib/python3.6/site-packages/tensorflow/python/framework/ops.py\", line 1204, in __init__\n    self._traceback = self._graph._extract_stack()  # pylint: disable=protected-access\n\nInvalidArgumentError (see above for traceback): Incompatible shapes: [100,20] vs. [300,20]\n\t [[Node: 161/SVGPMultiKernel/sub_8 = Sub[T=DT_DOUBLE, _device=\"/job:localhost/replica:0/task:0/gpu:0\"](161/SVGPMultiKernel/Tile_1, 161/SVGPMultiKernel/add_5)]]\n\t [[Node: 161/SVGPMultiKernel/objective/_1531 = _Recv[client_terminated=false, recv_device=\"/job:localhost/replica:0/task:0/cpu:0\", send_device=\"/job:localhost/replica:0/task:0/gpu:0\", send_device_incarnation=1, tensor_name=\"edge_2244_161/SVGPMultiKernel/objective\", tensor_type=DT_DOUBLE, _device=\"/job:localhost/replica:0/task:0/cpu:0\"]()]]\n"
     ]
    }
   ],
   "source": [
    "gpflow.train.ScipyOptimizer().minimize(model_multi, maxiter=500)"
   ]
  },
  {
   "cell_type": "code",
   "execution_count": 35,
   "metadata": {},
   "outputs": [
    {
     "ename": "ModuleNotFoundError",
     "evalue": "No module named 'gpflow.param'",
     "output_type": "error",
     "traceback": [
      "\u001b[0;31m---------------------------------------------------------------------------\u001b[0m",
      "\u001b[0;31mModuleNotFoundError\u001b[0m                       Traceback (most recent call last)",
      "\u001b[0;32m<ipython-input-35-e21b0eaf7bd1>\u001b[0m in \u001b[0;36m<module>\u001b[0;34m()\u001b[0m\n\u001b[1;32m     11\u001b[0m \u001b[0;34m\u001b[0m\u001b[0m\n\u001b[1;32m     12\u001b[0m \u001b[0;31m#This is how to make a NN kernel\u001b[0m\u001b[0;34m\u001b[0m\u001b[0;34m\u001b[0m\u001b[0m\n\u001b[0;32m---> 13\u001b[0;31m \u001b[0;32mfrom\u001b[0m \u001b[0mgpflow\u001b[0m\u001b[0;34m.\u001b[0m\u001b[0mparam\u001b[0m \u001b[0;32mimport\u001b[0m \u001b[0mParameterized\u001b[0m\u001b[0;34m\u001b[0m\u001b[0m\n\u001b[0m\u001b[1;32m     14\u001b[0m \u001b[0;32mfrom\u001b[0m \u001b[0mgpflow\u001b[0m\u001b[0;34m.\u001b[0m\u001b[0mkernels\u001b[0m \u001b[0;32mimport\u001b[0m \u001b[0mRBF\u001b[0m\u001b[0;34m\u001b[0m\u001b[0m\n\u001b[1;32m     15\u001b[0m \u001b[0;32mdef\u001b[0m \u001b[0mxavier\u001b[0m\u001b[0;34m(\u001b[0m\u001b[0mdim_in\u001b[0m\u001b[0;34m,\u001b[0m \u001b[0mdim_out\u001b[0m\u001b[0;34m)\u001b[0m\u001b[0;34m:\u001b[0m\u001b[0;34m\u001b[0m\u001b[0m\n",
      "\u001b[0;31mModuleNotFoundError\u001b[0m: No module named 'gpflow.param'"
     ]
    }
   ],
   "source": [
    "#this is how to make d(t) = a_1 X_1(t) + a_2 X_2(t)\n",
    "from functools import reduce\n",
    "import tensorflow as tf\n",
    "class ProductModel(gpflow.model.Model):\n",
    "    def __init__(self, models):\n",
    "        gpflow.model.Model.__init__(self)\n",
    "        self.models = gpflow.param.ParamList(models)\n",
    "\n",
    "    def build_likelihood(self):\n",
    "        return reduce(tf.add, (m.build_likelihood() for m in self.models))\n",
    "    \n",
    "#This is how to make a NN kernel\n",
    "from gpflow.param import Parameterized\n",
    "from gpflow.kernels import RBF\n",
    "def xavier(dim_in, dim_out):\n",
    "    return np.random.randn(dim_in, dim_out)*(2./(dim_in+dim_out))**0.5\n",
    "\n",
    "class NN(Parameterized):\n",
    "    def __init__(self, dims):\n",
    "        Parameterized.__init__(self)\n",
    "        self.dims = dims\n",
    "        for i, (dim_in, dim_out) in enumerate(zip(dims[:-1], dims[1:])):\n",
    "            setattr(self, 'W_{}'.format(i), param.Param(xavier(dim_in, dim_out)))\n",
    "            setattr(self, 'b_{}'.format(i), param.Param(np.zeros(dim_out)))\n",
    "\n",
    "    def forward(self, X):\n",
    "        if X is not None:\n",
    "            for i in range(len(self.dims) - 1):\n",
    "                W = getattr(self, 'W_{}'.format(i))\n",
    "                b = getattr(self, 'b_{}'.format(i))\n",
    "                X = tf.nn.tanh(tf.matmul(X, W) + b)\n",
    "            return X\n",
    "\n",
    "class NN_RBF(RBF):\n",
    "    def __init__(self, nn, *args, **kw):\n",
    "        RBF.__init__(self, *args, **kw)\n",
    "        self.nn = nn\n",
    "    \n",
    "    def square_dist(self, X, X2):\n",
    "        return RBF.square_dist(self, self.nn.forward(X), self.nn.forward(X2))"
   ]
  },
  {
   "cell_type": "code",
   "execution_count": 87,
   "metadata": {},
   "outputs": [
    {
     "name": "stdout",
     "output_type": "stream",
     "text": [
      "[1, 100, 1]\n"
     ]
    }
   ],
   "source": [
    "#arrange data\n",
    "X = np.vstack((t,l)).T\n",
    "Y = np.vstack((y,l)).T\n",
    "\n",
    "#set up coregionalized kernel\n",
    "input_dim = 1\n",
    "coreg = gpflow.kernels.Coregion(input_dim, output_dim=ndim, rank=1, active_dims=[1])\n",
    "lik = gpflow.likelihoods.SwitchedLikelihood([gpflow.likelihoods.StudentT()]*ndim)\n",
    "\n",
    "#set up model 1\n",
    "net = NN([1, npts, 1])  # for 1D inputs and a ndim GP\n",
    "k1 = NN_RBF(net, 1) \n",
    "m = gpflow.svgp.SVGP(X, Y, kern=k1, likelihood=lik, num_latent=1,Z=X[::3].copy())\n",
    "#m1 = gpflow.svgp.SVGP(X, Y, kern=k1, likelihood=lik, num_latent=1,Z=X[::3].copy())\n",
    "\n",
    "# #set up model 2\n",
    "# k2 = gpflow.kernels.Matern32(1) * coreg\n",
    "# m2 = gpflow.svgp.SVGP(X, Y, kern=k2, likelihood=lik, num_latent=1,Z=X[::3].copy())\n",
    "\n",
    "# m = ProductModel([m1,m2])"
   ]
  },
  {
   "cell_type": "code",
   "execution_count": 88,
   "metadata": {},
   "outputs": [
    {
     "data": {
      "text/plain": [
       "      fun: 375.87803260250251\n",
       " hess_inv: <5656x5656 LbfgsInvHessProduct with dtype=float64>\n",
       "      jac: array([ -5.29589716e+00,   0.00000000e+00,   8.02118722e-01, ...,\n",
       "        -4.28253146e-07,   8.01897423e-07,   1.88566277e-06])\n",
       "  message: 'STOP: TOTAL NO. of ITERATIONS EXCEEDS LIMIT'\n",
       "     nfev: 636\n",
       "      nit: 501\n",
       "   status: 1\n",
       "  success: False\n",
       "        x: array([  1.18480668e-01,   0.00000000e+00,   1.90609366e-01, ...,\n",
       "        -2.72002392e-07,  -8.43521324e-07,   9.99999067e-01])"
      ]
     },
     "execution_count": 88,
     "metadata": {},
     "output_type": "execute_result"
    }
   ],
   "source": [
    "m.optimize(maxiter=500)"
   ]
  },
  {
   "cell_type": "code",
   "execution_count": 95,
   "metadata": {},
   "outputs": [
    {
     "data": {
      "image/png": "[encoded data removed]",
      "text/plain": [
       "<matplotlib.figure.Figure at 0x7f5804b1cf50>"
      ]
     },
     "metadata": {},
     "output_type": "display_data"
    }
   ],
   "source": [
    "xtest = np.linspace(0, 10, npts)[:,None]\n",
    "for i in np.arange(ndim):\n",
    "    line, = plt.plot(t[l==i], y[l==i], '.')\n",
    "    mu, var = m.predict_f(np.hstack((xtest, i+np.zeros_like(xtest))))\n",
    "    plt.plot(xtest, mu, color=line.get_color(), lw=2)\n",
    "    mu, var = mu.reshape(npts,), var.reshape(npts,)\n",
    "    plt.fill_between(xtest.reshape(npts,), mu-2*np.sqrt(var), mu+2*np.sqrt(var), color=line.get_color(), alpha=0.2)"
   ]
  }
 ],
 "metadata": {
  "kernelspec": {
   "display_name": "Python 3",
   "language": "python",
   "name": "python3"
  },
  "language_info": {
   "codemirror_mode": {
    "name": "ipython",
    "version": 3
   },
   "file_extension": ".py",
   "mimetype": "text/x-python",
   "name": "python",
   "nbconvert_exporter": "python",
   "pygments_lexer": "ipython3",
   "version": "3.6.3"
  }
 },
 "nbformat": 4,
 "nbformat_minor": 2
}
