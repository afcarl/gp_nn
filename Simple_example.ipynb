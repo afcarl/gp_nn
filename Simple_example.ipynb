{
 "cells": [
  {
   "cell_type": "code",
   "execution_count": 1,
   "metadata": {},
   "outputs": [],
   "source": [
    "import numpy as np\n",
    "import matplotlib.pyplot as plt\n",
    "%matplotlib inline\n",
    "\n",
    "from modeling import Model"
   ]
  },
  {
   "cell_type": "markdown",
   "metadata": {},
   "source": [
    "### Part 1 - generate some correlated data.  \n",
    "Code from https://github.com/dfm/gprv/blob/master/demo.ipynb, which in turn was inspired from Rajpaul et al. (2015)"
   ]
  },
  {
   "cell_type": "code",
   "execution_count": 2,
   "metadata": {},
   "outputs": [],
   "source": [
    "class SimpleKernel(Model):\n",
    "    parameter_names = (\"log_b\", )\n",
    "    \n",
    "    def get_value(self, tau):\n",
    "        a = 1.0\n",
    "        b = np.exp(self.log_b)\n",
    "        return a * np.exp(-b * tau**2)\n",
    "    \n",
    "    def get_grad_1_value(self, tau):\n",
    "        a = 1.0\n",
    "        b = np.exp(self.log_b)\n",
    "        return 2 * a * b * tau * np.exp(-b * tau**2)\n",
    "    \n",
    "    def get_grad_2_value(self, tau):\n",
    "        a = 1.0\n",
    "        b = np.exp(self.log_b)\n",
    "        return 2 * a * b * np.exp(-b * tau**2) * (1.0 - 2 * b * tau**2)\n",
    "\n",
    "class RVKernel(Model):\n",
    "    parameter_names = (\"vc\", \"vr\", \"lc\", \"bc\", \"br\")\n",
    "    \n",
    "    def __init__(self, G, *args, **kwargs):\n",
    "        self.G = G\n",
    "        super(RVKernel, self).__init__(*args, **kwargs)\n",
    "    \n",
    "    def get_value(self, tau, l1, l2):\n",
    "#         vc = np.exp(self.log_vc)\n",
    "#         vr = np.exp(self.log_vr)\n",
    "#         lc = np.exp(self.log_lc)\n",
    "#         bc = np.exp(self.log_bc)\n",
    "#         br = np.exp(self.log_br)\n",
    "        vc = self.vc\n",
    "        vr = self.vr\n",
    "        lc = self.lc\n",
    "        bc = self.bc\n",
    "        br = self.br\n",
    "        \n",
    "        # Compute the value of gamma and its derivatives\n",
    "        g = self.G.get_value(tau)\n",
    "        gp1 = self.G.get_grad_1_value(tau)\n",
    "        gp2 = self.G.get_grad_1_value(-tau)\n",
    "        gpp = self.G.get_grad_2_value(tau)\n",
    "        \n",
    "        # We'll use these masks to build the blocked kernel matrix\n",
    "        m11 = l1 == 1\n",
    "        m12 = l1 == 2\n",
    "        m13 = l1 == 3\n",
    "        m21 = l2 == 1\n",
    "        m22 = l2 == 2\n",
    "        m23 = l2 == 3\n",
    "        \n",
    "        # Allocate the matrix and loop over blocks\n",
    "        K = np.zeros_like(tau)\n",
    "        zero_tau = np.isclose(tau, 0.0)\n",
    "        \n",
    "        # k11\n",
    "        m = m11 * m21\n",
    "        K[m] = vc**2*g[m] + vr**2*gpp[m] + vr*vc*(gp1 + gp2)[m]\n",
    "        m &= zero_tau\n",
    "\n",
    "        # k22\n",
    "        m = m12 * m22\n",
    "        K[m] = lc**2*g[m]\n",
    "        m &= zero_tau\n",
    "\n",
    "        # k33\n",
    "        m = m13 * m23\n",
    "        K[m] = bc**2*g[m] + br**2*gpp[m] + bc*br*(gp1 + gp2)[m]\n",
    "        m &= zero_tau\n",
    "\n",
    "        # k12\n",
    "        m = m11 * m22\n",
    "        K[m] = vc*lc*g[m] + vr*lc*gp2[m]\n",
    "        m = m12 * m21\n",
    "        K[m] = vc*lc*g[m] + vr*lc*gp1[m]\n",
    "\n",
    "        # k13\n",
    "        m = m11 * m23\n",
    "        K[m] = vc*bc*g[m] + vr*br*gpp[m] + vc*br*gp1[m] + vr*bc*gp2[m]\n",
    "        m = m13 * m21\n",
    "        K[m] = vc*bc*g[m] + vr*br*gpp[m] + vc*br*gp2[m] + vr*bc*gp1[m]\n",
    "\n",
    "        # k23\n",
    "        m = m12 * m23\n",
    "        K[m] = lc*bc*g[m] + lc*br*gp1[m]\n",
    "        m = m13 * m22\n",
    "        K[m] = lc*bc*g[m] + lc*br*gp2[m]\n",
    "\n",
    "        return K"
   ]
  },
  {
   "cell_type": "code",
   "execution_count": 3,
   "metadata": {},
   "outputs": [],
   "source": [
    "func = SimpleKernel(0.1)\n",
    "kernel = RVKernel(func, 1.0, 1.0, 0.6, 0.3, 0.5)"
   ]
  },
  {
   "cell_type": "code",
   "execution_count": 4,
   "metadata": {},
   "outputs": [
    {
     "data": {
      "image/png": "[encoded data removed]",
      "text/plain": [
       "<matplotlib.figure.Figure at 0x7f568d877410>"
      ]
     },
     "metadata": {},
     "output_type": "display_data"
    }
   ],
   "source": [
    "#generate some correlated time series according to a kernel K\n",
    "npts = 100\n",
    "t = np.linspace(0, 10, npts)\n",
    "l = np.concatenate((1 + np.zeros(len(t)), 2 + np.zeros(len(t)), 3 + np.zeros(len(t)))).astype(int)\n",
    "t = np.concatenate((t, t, t))\n",
    "K = kernel.get_value(t[:, None] - t[None, :], l[:, None], l[None, :])\n",
    "K[np.diag_indices(len(t))] += 0.1\n",
    "y = np.random.multivariate_normal(np.zeros_like(t), K)\n",
    "\n",
    "for i in [1, 2, 3]:\n",
    "    plt.plot(t[l==i], y[l==i])"
   ]
  },
  {
   "cell_type": "markdown",
   "metadata": {},
   "source": [
    "### Part 2 - See if we can model this via GP with a kernel that is deep learned.\n",
    "X_train=time, y_train=data?"
   ]
  },
  {
   "cell_type": "code",
   "execution_count": 94,
   "metadata": {},
   "outputs": [],
   "source": [
    "from keras.layers import Input, SimpleRNN\n",
    "from keras.optimizers import Adam\n",
    "\n",
    "# kgp\n",
    "from kgp.layers import GP\n",
    "from kgp.models import Model\n",
    "from kgp.losses import gen_gp_loss\n",
    "from kgp.metrics import root_mean_squared_error as RMSE\n",
    "from kgp.utils.experiment import train\n",
    "\n",
    "# Keras\n",
    "from keras.layers import Input, Dense, Dropout\n",
    "from keras.optimizers import RMSprop, Adam\n",
    "from keras.callbacks import EarlyStopping\n",
    "from keras import backend as K\n",
    "K.set_image_dim_ordering('tf')"
   ]
  },
  {
   "cell_type": "code",
   "execution_count": 159,
   "metadata": {},
   "outputs": [],
   "source": [
    "#https://github.com/alshedivat/keras-gp/blob/master/examples/msgp_mlp_kin40k.py\n",
    "def assemble_mlp(input_shape, output_shape, batch_size, nb_train_samples):\n",
    "    inputs = Input(shape=input_shape)\n",
    "    hidden = Dense(10, activation='relu')(inputs)\n",
    "    hidden = Dense(10, activation='relu')(hidden)\n",
    "    #hidden = Dense(input_shape, activation='relu')(hidden)\n",
    "    gp = GP(hyp={\n",
    "                'lik': np.log(0.3),\n",
    "                'mean': [],\n",
    "                'cov': [[0.5], [1.0]],\n",
    "            },\n",
    "            inf='infGrid', dlik='dlikGrid',\n",
    "            opt={'cg_maxit': 2000, 'cg_tol': 1e-6},\n",
    "            mean='meanZero', cov='covSEiso',\n",
    "            update_grid=1,\n",
    "            grid_kwargs={'eq': 1, 'k': 70.},\n",
    "            batch_size=batch_size,\n",
    "            nb_train_samples=nb_train_samples)\n",
    "    outputs = []\n",
    "    for i in range(output_shape[1]):\n",
    "        outputs.append()\n",
    "    return Model(inputs=inputs, outputs=outputs)"
   ]
  },
  {
   "cell_type": "code",
   "execution_count": 165,
   "metadata": {},
   "outputs": [
    {
     "name": "stdout",
     "output_type": "stream",
     "text": [
      "(80, 3) (80, 3)\n"
     ]
    }
   ],
   "source": [
    "#rearrange data into (nsteps,ndim)\n",
    "time = np.array((t[l==1],t[l==2],t[l==3])).T\n",
    "#time = t[l==1]\n",
    "data = np.array((y[l==1],y[l==2],y[l==3])).T\n",
    "\n",
    "train_frac, batch_size = 0.8, 10\n",
    "split = int(train_frac*len(time))\n",
    "X_train, y_train = time[0:split,:], data[0:split,:]\n",
    "X_test, y_test = time[split:,:], data[split,:]\n",
    "\n",
    "data_ = {\n",
    "    'train': (X_train, y_train),\n",
    "    'test': (X_test, y_test),\n",
    "}\n",
    "\n",
    "input_shape = X_train.shape\n",
    "output_shape = y_train.shape\n",
    "print input_shape, output_shape"
   ]
  },
  {
   "cell_type": "code",
   "execution_count": 168,
   "metadata": {},
   "outputs": [
    {
     "ename": "AssertionError",
     "evalue": "",
     "output_type": "error",
     "traceback": [
      "\u001b[0;31m---------------------------------------------------------------------------\u001b[0m",
      "\u001b[0;31mAssertionError\u001b[0m                            Traceback (most recent call last)",
      "\u001b[0;32m<ipython-input-168-5934ee834c54>\u001b[0m in \u001b[0;36m<module>\u001b[0;34m()\u001b[0m\n\u001b[0;32m----> 1\u001b[0;31m \u001b[0mmodel\u001b[0m \u001b[0;34m=\u001b[0m \u001b[0massemble_mlp\u001b[0m\u001b[0;34m(\u001b[0m\u001b[0minput_shape\u001b[0m\u001b[0;34m,\u001b[0m\u001b[0moutput_shape\u001b[0m\u001b[0;34m,\u001b[0m\u001b[0mbatch_size\u001b[0m\u001b[0;34m,\u001b[0m\u001b[0msplit\u001b[0m\u001b[0;34m)\u001b[0m\u001b[0;34m\u001b[0m\u001b[0m\n\u001b[0m",
      "\u001b[0;32m<ipython-input-167-aff4cc2a37ed>\u001b[0m in \u001b[0;36massemble_mlp\u001b[0;34m(input_shape, output_shape, batch_size, nb_train_samples)\u001b[0m\n\u001b[1;32m     17\u001b[0m     \u001b[0moutputs\u001b[0m \u001b[0;34m=\u001b[0m \u001b[0;34m[\u001b[0m\u001b[0;34m]\u001b[0m\u001b[0;34m\u001b[0m\u001b[0m\n\u001b[1;32m     18\u001b[0m     \u001b[0;32mfor\u001b[0m \u001b[0mi\u001b[0m \u001b[0;32min\u001b[0m \u001b[0mrange\u001b[0m\u001b[0;34m(\u001b[0m\u001b[0;36m3\u001b[0m\u001b[0;34m)\u001b[0m\u001b[0;34m:\u001b[0m\u001b[0;34m\u001b[0m\u001b[0m\n\u001b[0;32m---> 19\u001b[0;31m         \u001b[0moutputs\u001b[0m\u001b[0;34m.\u001b[0m\u001b[0mappend\u001b[0m\u001b[0;34m(\u001b[0m\u001b[0mgp\u001b[0m\u001b[0;34m(\u001b[0m\u001b[0mhidden\u001b[0m\u001b[0;34m)\u001b[0m\u001b[0;34m)\u001b[0m\u001b[0;34m\u001b[0m\u001b[0m\n\u001b[0m\u001b[1;32m     20\u001b[0m     \u001b[0;32mreturn\u001b[0m \u001b[0mModel\u001b[0m\u001b[0;34m(\u001b[0m\u001b[0minputs\u001b[0m\u001b[0;34m=\u001b[0m\u001b[0minputs\u001b[0m\u001b[0;34m,\u001b[0m \u001b[0moutputs\u001b[0m\u001b[0;34m=\u001b[0m\u001b[0moutputs\u001b[0m\u001b[0;34m)\u001b[0m\u001b[0;34m\u001b[0m\u001b[0m\n",
      "\u001b[0;32m/storage/home/ajs725/tf-ml/lib/python2.7/site-packages/keras/engine/topology.pyc\u001b[0m in \u001b[0;36m__call__\u001b[0;34m(self, inputs, **kwargs)\u001b[0m\n\u001b[1;32m    573\u001b[0m                                          '`layer.build(batch_input_shape)`')\n\u001b[1;32m    574\u001b[0m                 \u001b[0;32mif\u001b[0m \u001b[0mlen\u001b[0m\u001b[0;34m(\u001b[0m\u001b[0minput_shapes\u001b[0m\u001b[0;34m)\u001b[0m \u001b[0;34m==\u001b[0m \u001b[0;36m1\u001b[0m\u001b[0;34m:\u001b[0m\u001b[0;34m\u001b[0m\u001b[0m\n\u001b[0;32m--> 575\u001b[0;31m                     \u001b[0mself\u001b[0m\u001b[0;34m.\u001b[0m\u001b[0mbuild\u001b[0m\u001b[0;34m(\u001b[0m\u001b[0minput_shapes\u001b[0m\u001b[0;34m[\u001b[0m\u001b[0;36m0\u001b[0m\u001b[0;34m]\u001b[0m\u001b[0;34m)\u001b[0m\u001b[0;34m\u001b[0m\u001b[0m\n\u001b[0m\u001b[1;32m    576\u001b[0m                 \u001b[0;32melse\u001b[0m\u001b[0;34m:\u001b[0m\u001b[0;34m\u001b[0m\u001b[0m\n\u001b[1;32m    577\u001b[0m                     \u001b[0mself\u001b[0m\u001b[0;34m.\u001b[0m\u001b[0mbuild\u001b[0m\u001b[0;34m(\u001b[0m\u001b[0minput_shapes\u001b[0m\u001b[0;34m)\u001b[0m\u001b[0;34m\u001b[0m\u001b[0m\n",
      "\u001b[0;32m/storage/home/ajs725/kgp/kgp/layers.pyc\u001b[0m in \u001b[0;36mbuild\u001b[0;34m(self, input_shape)\u001b[0m\n\u001b[1;32m    137\u001b[0m                 \u001b[0;32mfor\u001b[0m \u001b[0mweight\u001b[0m \u001b[0mshape\u001b[0m \u001b[0mcomputations\u001b[0m\u001b[0;34m.\u001b[0m\u001b[0;34m\u001b[0m\u001b[0m\n\u001b[1;32m    138\u001b[0m         \"\"\"\n\u001b[0;32m--> 139\u001b[0;31m         \u001b[0;32massert\u001b[0m \u001b[0mlen\u001b[0m\u001b[0;34m(\u001b[0m\u001b[0minput_shape\u001b[0m\u001b[0;34m)\u001b[0m \u001b[0;34m==\u001b[0m \u001b[0;36m2\u001b[0m\u001b[0;34m\u001b[0m\u001b[0m\n\u001b[0m\u001b[1;32m    140\u001b[0m         \u001b[0minput_dim\u001b[0m \u001b[0;34m=\u001b[0m \u001b[0minput_shape\u001b[0m\u001b[0;34m[\u001b[0m\u001b[0;34m-\u001b[0m\u001b[0;36m1\u001b[0m\u001b[0;34m]\u001b[0m\u001b[0;34m\u001b[0m\u001b[0m\n\u001b[1;32m    141\u001b[0m         \u001b[0mself\u001b[0m\u001b[0;34m.\u001b[0m\u001b[0minput_spec\u001b[0m \u001b[0;34m=\u001b[0m \u001b[0mInputSpec\u001b[0m\u001b[0;34m(\u001b[0m\u001b[0mdtype\u001b[0m\u001b[0;34m=\u001b[0m\u001b[0mK\u001b[0m\u001b[0;34m.\u001b[0m\u001b[0mfloatx\u001b[0m\u001b[0;34m(\u001b[0m\u001b[0;34m)\u001b[0m\u001b[0;34m,\u001b[0m \u001b[0mshape\u001b[0m\u001b[0;34m=\u001b[0m\u001b[0;34m(\u001b[0m\u001b[0mNone\u001b[0m\u001b[0;34m,\u001b[0m \u001b[0minput_dim\u001b[0m\u001b[0;34m)\u001b[0m\u001b[0;34m)\u001b[0m\u001b[0;34m\u001b[0m\u001b[0m\n",
      "\u001b[0;31mAssertionError\u001b[0m: "
     ]
    }
   ],
   "source": [
    "model = assemble_mlp(input_shape,output_shape,batch_size,split)"
   ]
  },
  {
   "cell_type": "code",
   "execution_count": 116,
   "metadata": {},
   "outputs": [],
   "source": [
    "loss = [gen_gp_loss(gp) for gp in model.output_layers]\n",
    "model.compile(optimizer=Adam(1e-4), loss=loss)"
   ]
  },
  {
   "cell_type": "code",
   "execution_count": 117,
   "metadata": {},
   "outputs": [
    {
     "name": "stdout",
     "output_type": "stream",
     "text": [
      "Training...\n"
     ]
    },
    {
     "ename": "ValueError",
     "evalue": "Error when checking input: expected input_16 to have shape (None, 80) but got array with shape (80, 1)",
     "output_type": "error",
     "traceback": [
      "\u001b[0;31m---------------------------------------------------------------------------\u001b[0m",
      "\u001b[0;31mValueError\u001b[0m                                Traceback (most recent call last)",
      "\u001b[0;32m<ipython-input-117-92815edc26a3>\u001b[0m in \u001b[0;36m<module>\u001b[0;34m()\u001b[0m\n\u001b[1;32m      1\u001b[0m \u001b[0mepochs\u001b[0m \u001b[0;34m=\u001b[0m \u001b[0;36m5\u001b[0m\u001b[0;34m\u001b[0m\u001b[0m\n\u001b[1;32m      2\u001b[0m history = train(model, data_, callbacks=[], gp_n_iter=5,\n\u001b[0;32m----> 3\u001b[0;31m                 epochs=epochs, batch_size=batch_size, verbose=1)\n\u001b[0m",
      "\u001b[0;32m/storage/home/ajs725/kgp/kgp/utils/experiment.py\u001b[0m in \u001b[0;36mtrain\u001b[0;34m(model, data, epochs, batch_size, callbacks, checkpoint, checkpoint_monitor, verbose, **fit_kwargs)\u001b[0m\n\u001b[1;32m     65\u001b[0m                         \u001b[0mbatch_size\u001b[0m\u001b[0;34m=\u001b[0m\u001b[0mbatch_size\u001b[0m\u001b[0;34m,\u001b[0m \u001b[0mepochs\u001b[0m\u001b[0;34m=\u001b[0m\u001b[0mepochs\u001b[0m\u001b[0;34m,\u001b[0m\u001b[0;34m\u001b[0m\u001b[0m\n\u001b[1;32m     66\u001b[0m                         \u001b[0mcallbacks\u001b[0m\u001b[0;34m=\u001b[0m\u001b[0mcallbacks\u001b[0m\u001b[0;34m,\u001b[0m \u001b[0mverbose\u001b[0m\u001b[0;34m=\u001b[0m\u001b[0mverbose\u001b[0m\u001b[0;34m,\u001b[0m\u001b[0;34m\u001b[0m\u001b[0m\n\u001b[0;32m---> 67\u001b[0;31m                         **fit_kwargs)\n\u001b[0m\u001b[1;32m     68\u001b[0m \u001b[0;34m\u001b[0m\u001b[0m\n\u001b[1;32m     69\u001b[0m     \u001b[0;32mif\u001b[0m \u001b[0mverbose\u001b[0m\u001b[0;34m:\u001b[0m\u001b[0;34m\u001b[0m\u001b[0m\n",
      "\u001b[0;32m/storage/home/ajs725/kgp/kgp/models.pyc\u001b[0m in \u001b[0;36mfit\u001b[0;34m(self, X, Y, batch_size, epochs, gp_n_iter, verbose, callbacks, validation_split, validation_data, shuffle, class_weight, sample_weight, initial_epoch, **kwargs)\u001b[0m\n\u001b[1;32m    100\u001b[0m             \u001b[0mclass_weight\u001b[0m\u001b[0;34m=\u001b[0m\u001b[0mNone\u001b[0m\u001b[0;34m,\u001b[0m\u001b[0;34m\u001b[0m\u001b[0m\n\u001b[1;32m    101\u001b[0m             \u001b[0mcheck_batch_axis\u001b[0m\u001b[0;34m=\u001b[0m\u001b[0mFalse\u001b[0m\u001b[0;34m,\u001b[0m\u001b[0;34m\u001b[0m\u001b[0m\n\u001b[0;32m--> 102\u001b[0;31m             batch_size=batch_size)\n\u001b[0m\u001b[1;32m    103\u001b[0m         \u001b[0;32mif\u001b[0m \u001b[0mvalidation_data\u001b[0m \u001b[0;32mis\u001b[0m \u001b[0;32mnot\u001b[0m \u001b[0mNone\u001b[0m\u001b[0;34m:\u001b[0m\u001b[0;34m\u001b[0m\u001b[0m\n\u001b[1;32m    104\u001b[0m             X_val, Y_val, _ = self._standardize_user_data(\n",
      "\u001b[0;32m/storage/home/ajs725/tf-ml/lib/python2.7/site-packages/keras/engine/training.pyc\u001b[0m in \u001b[0;36m_standardize_user_data\u001b[0;34m(self, x, y, sample_weight, class_weight, check_batch_axis, batch_size)\u001b[0m\n\u001b[1;32m   1376\u001b[0m                                     \u001b[0mself\u001b[0m\u001b[0;34m.\u001b[0m\u001b[0m_feed_input_shapes\u001b[0m\u001b[0;34m,\u001b[0m\u001b[0;34m\u001b[0m\u001b[0m\n\u001b[1;32m   1377\u001b[0m                                     \u001b[0mcheck_batch_axis\u001b[0m\u001b[0;34m=\u001b[0m\u001b[0mFalse\u001b[0m\u001b[0;34m,\u001b[0m\u001b[0;34m\u001b[0m\u001b[0m\n\u001b[0;32m-> 1378\u001b[0;31m                                     exception_prefix='input')\n\u001b[0m\u001b[1;32m   1379\u001b[0m         y = _standardize_input_data(y, self._feed_output_names,\n\u001b[1;32m   1380\u001b[0m                                     \u001b[0moutput_shapes\u001b[0m\u001b[0;34m,\u001b[0m\u001b[0;34m\u001b[0m\u001b[0m\n",
      "\u001b[0;32m/storage/home/ajs725/tf-ml/lib/python2.7/site-packages/keras/engine/training.pyc\u001b[0m in \u001b[0;36m_standardize_input_data\u001b[0;34m(data, names, shapes, check_batch_axis, exception_prefix)\u001b[0m\n\u001b[1;32m    142\u001b[0m                             \u001b[0;34m' to have shape '\u001b[0m \u001b[0;34m+\u001b[0m \u001b[0mstr\u001b[0m\u001b[0;34m(\u001b[0m\u001b[0mshapes\u001b[0m\u001b[0;34m[\u001b[0m\u001b[0mi\u001b[0m\u001b[0;34m]\u001b[0m\u001b[0;34m)\u001b[0m \u001b[0;34m+\u001b[0m\u001b[0;34m\u001b[0m\u001b[0m\n\u001b[1;32m    143\u001b[0m                             \u001b[0;34m' but got array with shape '\u001b[0m \u001b[0;34m+\u001b[0m\u001b[0;34m\u001b[0m\u001b[0m\n\u001b[0;32m--> 144\u001b[0;31m                             str(array.shape))\n\u001b[0m\u001b[1;32m    145\u001b[0m     \u001b[0;32mreturn\u001b[0m \u001b[0marrays\u001b[0m\u001b[0;34m\u001b[0m\u001b[0m\n\u001b[1;32m    146\u001b[0m \u001b[0;34m\u001b[0m\u001b[0m\n",
      "\u001b[0;31mValueError\u001b[0m: Error when checking input: expected input_16 to have shape (None, 80) but got array with shape (80, 1)"
     ]
    }
   ],
   "source": [
    "epochs = 5\n",
    "history = train(model, data_, callbacks=[], gp_n_iter=5,\n",
    "                epochs=epochs, batch_size=batch_size, verbose=1)"
   ]
  },
  {
   "cell_type": "markdown",
   "metadata": {},
   "source": [
    "### Scratch"
   ]
  },
  {
   "cell_type": "code",
   "execution_count": null,
   "metadata": {},
   "outputs": [],
   "source": [
    "dataset_path = ''\n",
    "dataa = np.load(dataset_path)"
   ]
  },
  {
   "cell_type": "code",
   "execution_count": 36,
   "metadata": {},
   "outputs": [
    {
     "name": "stdout",
     "output_type": "stream",
     "text": [
      "GP configuration:\n",
      "{'cov': '{@covSEiso}',\n",
      " 'dcov': '@dcovSEiso',\n",
      " 'dlik': '@(varargin) dlikExact(varargin{:}, opt)',\n",
      " 'inf': '{@(varargin) infExact(varargin{:}, opt)}',\n",
      " 'lik': '{@likGauss}',\n",
      " 'mean': '{@meanZero}'}\n"
     ]
    }
   ],
   "source": [
    "input_shape = (10, 2)  # 10 time steps, 2 dimensions\n",
    "batch_size = 32\n",
    "nb_train_samples = 512\n",
    "gp_hypers = {'lik': -2.0, 'cov': [[-0.7], [0.0]]}\n",
    "\n",
    "inputs = Input(shape=input_shape)\n",
    "rnn = SimpleRNN(32)(inputs)\n",
    "gp = GP(gp_hypers,\n",
    "        batch_size=batch_size,\n",
    "        nb_train_samples=nb_train_samples)\n",
    "outputs = [gp(rnn)]\n",
    "model = Model(inputs=inputs, outputs=outputs)"
   ]
  },
  {
   "cell_type": "code",
   "execution_count": 46,
   "metadata": {},
   "outputs": [
    {
     "data": {
      "text/plain": [
       "<tf.Tensor 'gp_1/Identity:0' shape=(?, 32) dtype=float32>"
      ]
     },
     "execution_count": 46,
     "metadata": {},
     "output_type": "execute_result"
    }
   ],
   "source": [
    "outputs[0]"
   ]
  },
  {
   "cell_type": "code",
   "execution_count": 49,
   "metadata": {},
   "outputs": [
    {
     "ename": "InvalidArgumentError",
     "evalue": "You must feed a value for placeholder tensor 'input_1' with dtype float\n\t [[Node: input_1 = Placeholder[dtype=DT_FLOAT, shape=[], _device=\"/job:localhost/replica:0/task:0/cpu:0\"]()]]\n\nCaused by op u'input_1', defined at:\n  File \"/gpfs/group/ebf11/default/sw/python-2.7.11-tf-1.0.0/lib/python2.7/runpy.py\", line 162, in _run_module_as_main\n    \"__main__\", fname, loader, pkg_name)\n  File \"/gpfs/group/ebf11/default/sw/python-2.7.11-tf-1.0.0/lib/python2.7/runpy.py\", line 72, in _run_code\n    exec code in run_globals\n  File \"/storage/home/ajs725/tf-ml/lib/python2.7/site-packages/ipykernel_launcher.py\", line 16, in <module>\n    app.launch_new_instance()\n  File \"/storage/home/ajs725/tf-ml/lib/python2.7/site-packages/traitlets/config/application.py\", line 658, in launch_instance\n    app.start()\n  File \"/storage/home/ajs725/tf-ml/lib/python2.7/site-packages/ipykernel/kernelapp.py\", line 477, in start\n    ioloop.IOLoop.instance().start()\n  File \"/storage/home/ajs725/tf-ml/lib/python2.7/site-packages/zmq/eventloop/ioloop.py\", line 177, in start\n    super(ZMQIOLoop, self).start()\n  File \"/storage/home/ajs725/tf-ml/lib/python2.7/site-packages/tornado/ioloop.py\", line 888, in start\n    handler_func(fd_obj, events)\n  File \"/storage/home/ajs725/tf-ml/lib/python2.7/site-packages/tornado/stack_context.py\", line 277, in null_wrapper\n    return fn(*args, **kwargs)\n  File \"/storage/home/ajs725/tf-ml/lib/python2.7/site-packages/zmq/eventloop/zmqstream.py\", line 440, in _handle_events\n    self._handle_recv()\n  File \"/storage/home/ajs725/tf-ml/lib/python2.7/site-packages/zmq/eventloop/zmqstream.py\", line 472, in _handle_recv\n    self._run_callback(callback, msg)\n  File \"/storage/home/ajs725/tf-ml/lib/python2.7/site-packages/zmq/eventloop/zmqstream.py\", line 414, in _run_callback\n    callback(*args, **kwargs)\n  File \"/storage/home/ajs725/tf-ml/lib/python2.7/site-packages/tornado/stack_context.py\", line 277, in null_wrapper\n    return fn(*args, **kwargs)\n  File \"/storage/home/ajs725/tf-ml/lib/python2.7/site-packages/ipykernel/kernelbase.py\", line 283, in dispatcher\n    return self.dispatch_shell(stream, msg)\n  File \"/storage/home/ajs725/tf-ml/lib/python2.7/site-packages/ipykernel/kernelbase.py\", line 235, in dispatch_shell\n    handler(stream, idents, msg)\n  File \"/storage/home/ajs725/tf-ml/lib/python2.7/site-packages/ipykernel/kernelbase.py\", line 399, in execute_request\n    user_expressions, allow_stdin)\n  File \"/storage/home/ajs725/tf-ml/lib/python2.7/site-packages/ipykernel/ipkernel.py\", line 196, in do_execute\n    res = shell.run_cell(code, store_history=store_history, silent=silent)\n  File \"/storage/home/ajs725/tf-ml/lib/python2.7/site-packages/ipykernel/zmqshell.py\", line 533, in run_cell\n    return super(ZMQInteractiveShell, self).run_cell(*args, **kwargs)\n  File \"/storage/home/ajs725/tf-ml/lib/python2.7/site-packages/IPython/core/interactiveshell.py\", line 2718, in run_cell\n    interactivity=interactivity, compiler=compiler, result=result)\n  File \"/storage/home/ajs725/tf-ml/lib/python2.7/site-packages/IPython/core/interactiveshell.py\", line 2822, in run_ast_nodes\n    if self.run_code(code, result):\n  File \"/storage/home/ajs725/tf-ml/lib/python2.7/site-packages/IPython/core/interactiveshell.py\", line 2882, in run_code\n    exec(code_obj, self.user_global_ns, self.user_ns)\n  File \"<ipython-input-36-bc67349297ba>\", line 6, in <module>\n    inputs = Input(shape=input_shape)\n  File \"/storage/home/ajs725/tf-ml/lib/python2.7/site-packages/keras/engine/topology.py\", line 1436, in Input\n    input_tensor=tensor)\n  File \"/storage/home/ajs725/tf-ml/lib/python2.7/site-packages/keras/legacy/interfaces.py\", line 87, in wrapper\n    return func(*args, **kwargs)\n  File \"/storage/home/ajs725/tf-ml/lib/python2.7/site-packages/keras/engine/topology.py\", line 1347, in __init__\n    name=self.name)\n  File \"/storage/home/ajs725/tf-ml/lib/python2.7/site-packages/keras/backend/tensorflow_backend.py\", line 442, in placeholder\n    x = tf.placeholder(dtype, shape=shape, name=name)\n  File \"/gpfs/group/ebf11/default/sw/python-2.7.11-tf-1.0.0/lib/python2.7/site-packages/tensorflow/python/ops/array_ops.py\", line 1505, in placeholder\n    name=name)\n  File \"/gpfs/group/ebf11/default/sw/python-2.7.11-tf-1.0.0/lib/python2.7/site-packages/tensorflow/python/ops/gen_array_ops.py\", line 2148, in _placeholder\n    name=name)\n  File \"/gpfs/group/ebf11/default/sw/python-2.7.11-tf-1.0.0/lib/python2.7/site-packages/tensorflow/python/framework/op_def_library.py\", line 768, in apply_op\n    op_def=op_def)\n  File \"/gpfs/group/ebf11/default/sw/python-2.7.11-tf-1.0.0/lib/python2.7/site-packages/tensorflow/python/framework/ops.py\", line 2334, in create_op\n    original_op=self._default_original_op, op_def=op_def)\n  File \"/gpfs/group/ebf11/default/sw/python-2.7.11-tf-1.0.0/lib/python2.7/site-packages/tensorflow/python/framework/ops.py\", line 1226, in __init__\n    self._traceback = _extract_stack()\n\nInvalidArgumentError (see above for traceback): You must feed a value for placeholder tensor 'input_1' with dtype float\n\t [[Node: input_1 = Placeholder[dtype=DT_FLOAT, shape=[], _device=\"/job:localhost/replica:0/task:0/cpu:0\"]()]]\n",
     "output_type": "error",
     "traceback": [
      "\u001b[0;31m---------------------------------------------------------------------------\u001b[0m",
      "\u001b[0;31mInvalidArgumentError\u001b[0m                      Traceback (most recent call last)",
      "\u001b[0;32m<ipython-input-49-e943626699c7>\u001b[0m in \u001b[0;36m<module>\u001b[0;34m()\u001b[0m\n\u001b[1;32m      2\u001b[0m \u001b[0msess\u001b[0m \u001b[0;34m=\u001b[0m \u001b[0mtf\u001b[0m\u001b[0;34m.\u001b[0m\u001b[0mSession\u001b[0m\u001b[0;34m(\u001b[0m\u001b[0;34m)\u001b[0m\u001b[0;34m\u001b[0m\u001b[0m\n\u001b[1;32m      3\u001b[0m \u001b[0;32mwith\u001b[0m \u001b[0msess\u001b[0m\u001b[0;34m.\u001b[0m\u001b[0mas_default\u001b[0m\u001b[0;34m(\u001b[0m\u001b[0;34m)\u001b[0m\u001b[0;34m:\u001b[0m\u001b[0;34m\u001b[0m\u001b[0m\n\u001b[0;32m----> 4\u001b[0;31m     \u001b[0mgp\u001b[0m\u001b[0;34m(\u001b[0m\u001b[0mrnn\u001b[0m\u001b[0;34m)\u001b[0m\u001b[0;34m.\u001b[0m\u001b[0meval\u001b[0m\u001b[0;34m(\u001b[0m\u001b[0;34m)\u001b[0m\u001b[0;34m\u001b[0m\u001b[0m\n\u001b[0m",
      "\u001b[0;32m/gpfs/group/ebf11/default/sw/python-2.7.11-tf-1.0.0/lib/python2.7/site-packages/tensorflow/python/framework/ops.pyc\u001b[0m in \u001b[0;36meval\u001b[0;34m(self, feed_dict, session)\u001b[0m\n\u001b[1;32m    565\u001b[0m \u001b[0;34m\u001b[0m\u001b[0m\n\u001b[1;32m    566\u001b[0m     \"\"\"\n\u001b[0;32m--> 567\u001b[0;31m     \u001b[0;32mreturn\u001b[0m \u001b[0m_eval_using_default_session\u001b[0m\u001b[0;34m(\u001b[0m\u001b[0mself\u001b[0m\u001b[0;34m,\u001b[0m \u001b[0mfeed_dict\u001b[0m\u001b[0;34m,\u001b[0m \u001b[0mself\u001b[0m\u001b[0;34m.\u001b[0m\u001b[0mgraph\u001b[0m\u001b[0;34m,\u001b[0m \u001b[0msession\u001b[0m\u001b[0;34m)\u001b[0m\u001b[0;34m\u001b[0m\u001b[0m\n\u001b[0m\u001b[1;32m    568\u001b[0m \u001b[0;34m\u001b[0m\u001b[0m\n\u001b[1;32m    569\u001b[0m \u001b[0;34m\u001b[0m\u001b[0m\n",
      "\u001b[0;32m/gpfs/group/ebf11/default/sw/python-2.7.11-tf-1.0.0/lib/python2.7/site-packages/tensorflow/python/framework/ops.pyc\u001b[0m in \u001b[0;36m_eval_using_default_session\u001b[0;34m(tensors, feed_dict, graph, session)\u001b[0m\n\u001b[1;32m   3737\u001b[0m                        \u001b[0;34m\"the tensor's graph is different from the session's \"\u001b[0m\u001b[0;34m\u001b[0m\u001b[0m\n\u001b[1;32m   3738\u001b[0m                        \"graph.\")\n\u001b[0;32m-> 3739\u001b[0;31m   \u001b[0;32mreturn\u001b[0m \u001b[0msession\u001b[0m\u001b[0;34m.\u001b[0m\u001b[0mrun\u001b[0m\u001b[0;34m(\u001b[0m\u001b[0mtensors\u001b[0m\u001b[0;34m,\u001b[0m \u001b[0mfeed_dict\u001b[0m\u001b[0;34m)\u001b[0m\u001b[0;34m\u001b[0m\u001b[0m\n\u001b[0m\u001b[1;32m   3740\u001b[0m \u001b[0;34m\u001b[0m\u001b[0m\n\u001b[1;32m   3741\u001b[0m \u001b[0;34m\u001b[0m\u001b[0m\n",
      "\u001b[0;32m/gpfs/group/ebf11/default/sw/python-2.7.11-tf-1.0.0/lib/python2.7/site-packages/tensorflow/python/client/session.pyc\u001b[0m in \u001b[0;36mrun\u001b[0;34m(self, fetches, feed_dict, options, run_metadata)\u001b[0m\n\u001b[1;32m    767\u001b[0m     \u001b[0;32mtry\u001b[0m\u001b[0;34m:\u001b[0m\u001b[0;34m\u001b[0m\u001b[0m\n\u001b[1;32m    768\u001b[0m       result = self._run(None, fetches, feed_dict, options_ptr,\n\u001b[0;32m--> 769\u001b[0;31m                          run_metadata_ptr)\n\u001b[0m\u001b[1;32m    770\u001b[0m       \u001b[0;32mif\u001b[0m \u001b[0mrun_metadata\u001b[0m\u001b[0;34m:\u001b[0m\u001b[0;34m\u001b[0m\u001b[0m\n\u001b[1;32m    771\u001b[0m         \u001b[0mproto_data\u001b[0m \u001b[0;34m=\u001b[0m \u001b[0mtf_session\u001b[0m\u001b[0;34m.\u001b[0m\u001b[0mTF_GetBuffer\u001b[0m\u001b[0;34m(\u001b[0m\u001b[0mrun_metadata_ptr\u001b[0m\u001b[0;34m)\u001b[0m\u001b[0;34m\u001b[0m\u001b[0m\n",
      "\u001b[0;32m/gpfs/group/ebf11/default/sw/python-2.7.11-tf-1.0.0/lib/python2.7/site-packages/tensorflow/python/client/session.pyc\u001b[0m in \u001b[0;36m_run\u001b[0;34m(self, handle, fetches, feed_dict, options, run_metadata)\u001b[0m\n\u001b[1;32m    965\u001b[0m     \u001b[0;32mif\u001b[0m \u001b[0mfinal_fetches\u001b[0m \u001b[0;32mor\u001b[0m \u001b[0mfinal_targets\u001b[0m\u001b[0;34m:\u001b[0m\u001b[0;34m\u001b[0m\u001b[0m\n\u001b[1;32m    966\u001b[0m       results = self._do_run(handle, final_targets, final_fetches,\n\u001b[0;32m--> 967\u001b[0;31m                              feed_dict_string, options, run_metadata)\n\u001b[0m\u001b[1;32m    968\u001b[0m     \u001b[0;32melse\u001b[0m\u001b[0;34m:\u001b[0m\u001b[0;34m\u001b[0m\u001b[0m\n\u001b[1;32m    969\u001b[0m       \u001b[0mresults\u001b[0m \u001b[0;34m=\u001b[0m \u001b[0;34m[\u001b[0m\u001b[0;34m]\u001b[0m\u001b[0;34m\u001b[0m\u001b[0m\n",
      "\u001b[0;32m/gpfs/group/ebf11/default/sw/python-2.7.11-tf-1.0.0/lib/python2.7/site-packages/tensorflow/python/client/session.pyc\u001b[0m in \u001b[0;36m_do_run\u001b[0;34m(self, handle, target_list, fetch_list, feed_dict, options, run_metadata)\u001b[0m\n\u001b[1;32m   1015\u001b[0m     \u001b[0;32mif\u001b[0m \u001b[0mhandle\u001b[0m \u001b[0;32mis\u001b[0m \u001b[0mNone\u001b[0m\u001b[0;34m:\u001b[0m\u001b[0;34m\u001b[0m\u001b[0m\n\u001b[1;32m   1016\u001b[0m       return self._do_call(_run_fn, self._session, feed_dict, fetch_list,\n\u001b[0;32m-> 1017\u001b[0;31m                            target_list, options, run_metadata)\n\u001b[0m\u001b[1;32m   1018\u001b[0m     \u001b[0;32melse\u001b[0m\u001b[0;34m:\u001b[0m\u001b[0;34m\u001b[0m\u001b[0m\n\u001b[1;32m   1019\u001b[0m       return self._do_call(_prun_fn, self._session, handle, feed_dict,\n",
      "\u001b[0;32m/gpfs/group/ebf11/default/sw/python-2.7.11-tf-1.0.0/lib/python2.7/site-packages/tensorflow/python/client/session.pyc\u001b[0m in \u001b[0;36m_do_call\u001b[0;34m(self, fn, *args)\u001b[0m\n\u001b[1;32m   1035\u001b[0m         \u001b[0;32mexcept\u001b[0m \u001b[0mKeyError\u001b[0m\u001b[0;34m:\u001b[0m\u001b[0;34m\u001b[0m\u001b[0m\n\u001b[1;32m   1036\u001b[0m           \u001b[0;32mpass\u001b[0m\u001b[0;34m\u001b[0m\u001b[0m\n\u001b[0;32m-> 1037\u001b[0;31m       \u001b[0;32mraise\u001b[0m \u001b[0mtype\u001b[0m\u001b[0;34m(\u001b[0m\u001b[0me\u001b[0m\u001b[0;34m)\u001b[0m\u001b[0;34m(\u001b[0m\u001b[0mnode_def\u001b[0m\u001b[0;34m,\u001b[0m \u001b[0mop\u001b[0m\u001b[0;34m,\u001b[0m \u001b[0mmessage\u001b[0m\u001b[0;34m)\u001b[0m\u001b[0;34m\u001b[0m\u001b[0m\n\u001b[0m\u001b[1;32m   1038\u001b[0m \u001b[0;34m\u001b[0m\u001b[0m\n\u001b[1;32m   1039\u001b[0m   \u001b[0;32mdef\u001b[0m \u001b[0m_extend_graph\u001b[0m\u001b[0;34m(\u001b[0m\u001b[0mself\u001b[0m\u001b[0;34m)\u001b[0m\u001b[0;34m:\u001b[0m\u001b[0;34m\u001b[0m\u001b[0m\n",
      "\u001b[0;31mInvalidArgumentError\u001b[0m: You must feed a value for placeholder tensor 'input_1' with dtype float\n\t [[Node: input_1 = Placeholder[dtype=DT_FLOAT, shape=[], _device=\"/job:localhost/replica:0/task:0/cpu:0\"]()]]\n\nCaused by op u'input_1', defined at:\n  File \"/gpfs/group/ebf11/default/sw/python-2.7.11-tf-1.0.0/lib/python2.7/runpy.py\", line 162, in _run_module_as_main\n    \"__main__\", fname, loader, pkg_name)\n  File \"/gpfs/group/ebf11/default/sw/python-2.7.11-tf-1.0.0/lib/python2.7/runpy.py\", line 72, in _run_code\n    exec code in run_globals\n  File \"/storage/home/ajs725/tf-ml/lib/python2.7/site-packages/ipykernel_launcher.py\", line 16, in <module>\n    app.launch_new_instance()\n  File \"/storage/home/ajs725/tf-ml/lib/python2.7/site-packages/traitlets/config/application.py\", line 658, in launch_instance\n    app.start()\n  File \"/storage/home/ajs725/tf-ml/lib/python2.7/site-packages/ipykernel/kernelapp.py\", line 477, in start\n    ioloop.IOLoop.instance().start()\n  File \"/storage/home/ajs725/tf-ml/lib/python2.7/site-packages/zmq/eventloop/ioloop.py\", line 177, in start\n    super(ZMQIOLoop, self).start()\n  File \"/storage/home/ajs725/tf-ml/lib/python2.7/site-packages/tornado/ioloop.py\", line 888, in start\n    handler_func(fd_obj, events)\n  File \"/storage/home/ajs725/tf-ml/lib/python2.7/site-packages/tornado/stack_context.py\", line 277, in null_wrapper\n    return fn(*args, **kwargs)\n  File \"/storage/home/ajs725/tf-ml/lib/python2.7/site-packages/zmq/eventloop/zmqstream.py\", line 440, in _handle_events\n    self._handle_recv()\n  File \"/storage/home/ajs725/tf-ml/lib/python2.7/site-packages/zmq/eventloop/zmqstream.py\", line 472, in _handle_recv\n    self._run_callback(callback, msg)\n  File \"/storage/home/ajs725/tf-ml/lib/python2.7/site-packages/zmq/eventloop/zmqstream.py\", line 414, in _run_callback\n    callback(*args, **kwargs)\n  File \"/storage/home/ajs725/tf-ml/lib/python2.7/site-packages/tornado/stack_context.py\", line 277, in null_wrapper\n    return fn(*args, **kwargs)\n  File \"/storage/home/ajs725/tf-ml/lib/python2.7/site-packages/ipykernel/kernelbase.py\", line 283, in dispatcher\n    return self.dispatch_shell(stream, msg)\n  File \"/storage/home/ajs725/tf-ml/lib/python2.7/site-packages/ipykernel/kernelbase.py\", line 235, in dispatch_shell\n    handler(stream, idents, msg)\n  File \"/storage/home/ajs725/tf-ml/lib/python2.7/site-packages/ipykernel/kernelbase.py\", line 399, in execute_request\n    user_expressions, allow_stdin)\n  File \"/storage/home/ajs725/tf-ml/lib/python2.7/site-packages/ipykernel/ipkernel.py\", line 196, in do_execute\n    res = shell.run_cell(code, store_history=store_history, silent=silent)\n  File \"/storage/home/ajs725/tf-ml/lib/python2.7/site-packages/ipykernel/zmqshell.py\", line 533, in run_cell\n    return super(ZMQInteractiveShell, self).run_cell(*args, **kwargs)\n  File \"/storage/home/ajs725/tf-ml/lib/python2.7/site-packages/IPython/core/interactiveshell.py\", line 2718, in run_cell\n    interactivity=interactivity, compiler=compiler, result=result)\n  File \"/storage/home/ajs725/tf-ml/lib/python2.7/site-packages/IPython/core/interactiveshell.py\", line 2822, in run_ast_nodes\n    if self.run_code(code, result):\n  File \"/storage/home/ajs725/tf-ml/lib/python2.7/site-packages/IPython/core/interactiveshell.py\", line 2882, in run_code\n    exec(code_obj, self.user_global_ns, self.user_ns)\n  File \"<ipython-input-36-bc67349297ba>\", line 6, in <module>\n    inputs = Input(shape=input_shape)\n  File \"/storage/home/ajs725/tf-ml/lib/python2.7/site-packages/keras/engine/topology.py\", line 1436, in Input\n    input_tensor=tensor)\n  File \"/storage/home/ajs725/tf-ml/lib/python2.7/site-packages/keras/legacy/interfaces.py\", line 87, in wrapper\n    return func(*args, **kwargs)\n  File \"/storage/home/ajs725/tf-ml/lib/python2.7/site-packages/keras/engine/topology.py\", line 1347, in __init__\n    name=self.name)\n  File \"/storage/home/ajs725/tf-ml/lib/python2.7/site-packages/keras/backend/tensorflow_backend.py\", line 442, in placeholder\n    x = tf.placeholder(dtype, shape=shape, name=name)\n  File \"/gpfs/group/ebf11/default/sw/python-2.7.11-tf-1.0.0/lib/python2.7/site-packages/tensorflow/python/ops/array_ops.py\", line 1505, in placeholder\n    name=name)\n  File \"/gpfs/group/ebf11/default/sw/python-2.7.11-tf-1.0.0/lib/python2.7/site-packages/tensorflow/python/ops/gen_array_ops.py\", line 2148, in _placeholder\n    name=name)\n  File \"/gpfs/group/ebf11/default/sw/python-2.7.11-tf-1.0.0/lib/python2.7/site-packages/tensorflow/python/framework/op_def_library.py\", line 768, in apply_op\n    op_def=op_def)\n  File \"/gpfs/group/ebf11/default/sw/python-2.7.11-tf-1.0.0/lib/python2.7/site-packages/tensorflow/python/framework/ops.py\", line 2334, in create_op\n    original_op=self._default_original_op, op_def=op_def)\n  File \"/gpfs/group/ebf11/default/sw/python-2.7.11-tf-1.0.0/lib/python2.7/site-packages/tensorflow/python/framework/ops.py\", line 1226, in __init__\n    self._traceback = _extract_stack()\n\nInvalidArgumentError (see above for traceback): You must feed a value for placeholder tensor 'input_1' with dtype float\n\t [[Node: input_1 = Placeholder[dtype=DT_FLOAT, shape=[], _device=\"/job:localhost/replica:0/task:0/cpu:0\"]()]]\n"
     ]
    }
   ],
   "source": [
    "import tensorflow as tf\n",
    "sess = tf.Session()\n",
    "with sess.as_default():\n",
    "    gp(rnn).eval()"
   ]
  },
  {
   "cell_type": "code",
   "execution_count": null,
   "metadata": {},
   "outputs": [],
   "source": []
  }
 ],
 "metadata": {
  "kernelspec": {
   "display_name": "Python 2",
   "language": "python",
   "name": "python2"
  },
  "language_info": {
   "codemirror_mode": {
    "name": "ipython",
    "version": 2
   },
   "file_extension": ".py",
   "mimetype": "text/x-python",
   "name": "python",
   "nbconvert_exporter": "python",
   "pygments_lexer": "ipython2",
   "version": "2.7.11"
  }
 },
 "nbformat": 4,
 "nbformat_minor": 2
}
